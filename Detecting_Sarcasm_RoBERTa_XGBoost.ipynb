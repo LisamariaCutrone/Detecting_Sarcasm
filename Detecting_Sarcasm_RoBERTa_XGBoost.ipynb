{
  "cells": [
    {
      "cell_type": "markdown",
      "id": "96PYWHEUmpYr",
      "metadata": {
        "id": "96PYWHEUmpYr"
      },
      "source": [
        "Detecting Sarcasm with RoBERTa Embeddings and XGBoost\n",
        "---------------------------------------------------------------------------\n",
        "\n",
        "By Ivan T. Ivanov, Lisamaria Cutrone & Jennifer Passarelli\n",
        "\n",
        "A Program Comprehensive Assessment\n",
        "\n",
        "Submitted to Ivan T. Ivanov, Mathematics Department, Vanier College, December 2024:"
      ]
    },
    {
      "cell_type": "code",
      "execution_count": null,
      "id": "oltK4XNMemVg",
      "metadata": {
        "id": "oltK4XNMemVg"
      },
      "outputs": [],
      "source": [
        "!pip install -qU flair umap-learn matplotlib"
      ]
    },
    {
      "cell_type": "markdown",
      "source": [
        "Abstract\n",
        "-----------------------------------"
      ],
      "metadata": {
        "id": "LsNv4QoPQOyl"
      },
      "id": "LsNv4QoPQOyl"
    },
    {
      "cell_type": "markdown",
      "source": [
        "This project aims to develop a model capable of distinguishing between sarcastic and non-sarcastic text in article headlines. A Kaggle dataset of sarcastic headlines from The Onion and non-sarcastic headlines from HuffPost was used. RoBERTa, a transformer-based language model, was used to embed the headlines to capture semantic relationships between the headlines and converting them into numerical vectors. These embeddings were then used to train an XGBoost classifier.\n",
        "\n",
        "The results demonstrate that the model is effective in detecting sarcasm with high precision, recall, and F1-scores above 0.8. This indicates the model's accurate identification of sarcastic headlines while minimizing false positives and negatives. This model can have applications in social media content moderation and sentiment analysis, aiding in tasks like detecting hate speech or flagging inappropriate content and predicting the emotional tone of text.\n",
        "\n",
        "While the model exhibits high accuracy, potential improvements include experimenting with other embedding models such as BERT, XLNet, or ELMo, and expanding the dataset for broader sarcastic expression detection."
      ],
      "metadata": {
        "id": "3H9-8HqzQtaP"
      },
      "id": "3H9-8HqzQtaP"
    },
    {
      "cell_type": "code",
      "execution_count": null,
      "id": "eadff088",
      "metadata": {
        "id": "eadff088"
      },
      "outputs": [],
      "source": [
        "import numpy as np\n",
        "import pandas as pd\n",
        "from sklearn.model_selection import train_test_split\n",
        "from sklearn.linear_model import LogisticRegression\n",
        "from sklearn.ensemble import RandomForestClassifier\n",
        "from sklearn.model_selection import GridSearchCV\n",
        "import xgboost as xgb\n",
        "from sklearn.metrics import classification_report\n",
        "from scipy.interpolate import griddata\n",
        "import matplotlib.pyplot as plt\n",
        "from mpl_toolkits.mplot3d import Axes3D\n",
        "import flair\n",
        "from flair.data import Sentence\n",
        "from umap import UMAP\n",
        "import torch"
      ]
    },
    {
      "cell_type": "markdown",
      "id": "roP6nup9nHff",
      "metadata": {
        "id": "roP6nup9nHff"
      },
      "source": [
        "The objective is to obtain a model able to distinguish and classify sarcastic and non-sarcastic text. Specifically, in article headlines.  \n",
        "\n",
        "To do this, a dataset containing sarcastic headlines from The Onion and non-sarcastic headlines from HuffPost was first embedded and then trained in XGBoost."
      ]
    },
    {
      "cell_type": "code",
      "execution_count": null,
      "id": "888e22af",
      "metadata": {
        "id": "888e22af"
      },
      "outputs": [],
      "source": [
        "df = pd.read_json('Sarcasm.json', lines=True)"
      ]
    },
    {
      "cell_type": "code",
      "execution_count": null,
      "id": "6fc369b4",
      "metadata": {
        "colab": {
          "base_uri": "https://localhost:8080/",
          "height": 206
        },
        "id": "6fc369b4",
        "outputId": "84899916-b01f-407b-bc19-9a0696b5308f"
      },
      "outputs": [
        {
          "output_type": "execute_result",
          "data": {
            "text/plain": [
              "   is_sarcastic                                           headline  \\\n",
              "0             1  thirtysomething scientists unveil doomsday clo...   \n",
              "1             0  dem rep. totally nails why congress is falling...   \n",
              "2             0  eat your veggies: 9 deliciously different recipes   \n",
              "3             1  inclement weather prevents liar from getting t...   \n",
              "4             1  mother comes pretty close to using word 'strea...   \n",
              "\n",
              "                                        article_link  \n",
              "0  https://www.theonion.com/thirtysomething-scien...  \n",
              "1  https://www.huffingtonpost.com/entry/donna-edw...  \n",
              "2  https://www.huffingtonpost.com/entry/eat-your-...  \n",
              "3  https://local.theonion.com/inclement-weather-p...  \n",
              "4  https://www.theonion.com/mother-comes-pretty-c...  "
            ],
            "text/html": [
              "\n",
              "  <div id=\"df-6ffbcc90-77aa-4b28-a2e1-136eae53a00e\" class=\"colab-df-container\">\n",
              "    <div>\n",
              "<style scoped>\n",
              "    .dataframe tbody tr th:only-of-type {\n",
              "        vertical-align: middle;\n",
              "    }\n",
              "\n",
              "    .dataframe tbody tr th {\n",
              "        vertical-align: top;\n",
              "    }\n",
              "\n",
              "    .dataframe thead th {\n",
              "        text-align: right;\n",
              "    }\n",
              "</style>\n",
              "<table border=\"1\" class=\"dataframe\">\n",
              "  <thead>\n",
              "    <tr style=\"text-align: right;\">\n",
              "      <th></th>\n",
              "      <th>is_sarcastic</th>\n",
              "      <th>headline</th>\n",
              "      <th>article_link</th>\n",
              "    </tr>\n",
              "  </thead>\n",
              "  <tbody>\n",
              "    <tr>\n",
              "      <th>0</th>\n",
              "      <td>1</td>\n",
              "      <td>thirtysomething scientists unveil doomsday clo...</td>\n",
              "      <td>https://www.theonion.com/thirtysomething-scien...</td>\n",
              "    </tr>\n",
              "    <tr>\n",
              "      <th>1</th>\n",
              "      <td>0</td>\n",
              "      <td>dem rep. totally nails why congress is falling...</td>\n",
              "      <td>https://www.huffingtonpost.com/entry/donna-edw...</td>\n",
              "    </tr>\n",
              "    <tr>\n",
              "      <th>2</th>\n",
              "      <td>0</td>\n",
              "      <td>eat your veggies: 9 deliciously different recipes</td>\n",
              "      <td>https://www.huffingtonpost.com/entry/eat-your-...</td>\n",
              "    </tr>\n",
              "    <tr>\n",
              "      <th>3</th>\n",
              "      <td>1</td>\n",
              "      <td>inclement weather prevents liar from getting t...</td>\n",
              "      <td>https://local.theonion.com/inclement-weather-p...</td>\n",
              "    </tr>\n",
              "    <tr>\n",
              "      <th>4</th>\n",
              "      <td>1</td>\n",
              "      <td>mother comes pretty close to using word 'strea...</td>\n",
              "      <td>https://www.theonion.com/mother-comes-pretty-c...</td>\n",
              "    </tr>\n",
              "  </tbody>\n",
              "</table>\n",
              "</div>\n",
              "    <div class=\"colab-df-buttons\">\n",
              "\n",
              "  <div class=\"colab-df-container\">\n",
              "    <button class=\"colab-df-convert\" onclick=\"convertToInteractive('df-6ffbcc90-77aa-4b28-a2e1-136eae53a00e')\"\n",
              "            title=\"Convert this dataframe to an interactive table.\"\n",
              "            style=\"display:none;\">\n",
              "\n",
              "  <svg xmlns=\"http://www.w3.org/2000/svg\" height=\"24px\" viewBox=\"0 -960 960 960\">\n",
              "    <path d=\"M120-120v-720h720v720H120Zm60-500h600v-160H180v160Zm220 220h160v-160H400v160Zm0 220h160v-160H400v160ZM180-400h160v-160H180v160Zm440 0h160v-160H620v160ZM180-180h160v-160H180v160Zm440 0h160v-160H620v160Z\"/>\n",
              "  </svg>\n",
              "    </button>\n",
              "\n",
              "  <style>\n",
              "    .colab-df-container {\n",
              "      display:flex;\n",
              "      gap: 12px;\n",
              "    }\n",
              "\n",
              "    .colab-df-convert {\n",
              "      background-color: #E8F0FE;\n",
              "      border: none;\n",
              "      border-radius: 50%;\n",
              "      cursor: pointer;\n",
              "      display: none;\n",
              "      fill: #1967D2;\n",
              "      height: 32px;\n",
              "      padding: 0 0 0 0;\n",
              "      width: 32px;\n",
              "    }\n",
              "\n",
              "    .colab-df-convert:hover {\n",
              "      background-color: #E2EBFA;\n",
              "      box-shadow: 0px 1px 2px rgba(60, 64, 67, 0.3), 0px 1px 3px 1px rgba(60, 64, 67, 0.15);\n",
              "      fill: #174EA6;\n",
              "    }\n",
              "\n",
              "    .colab-df-buttons div {\n",
              "      margin-bottom: 4px;\n",
              "    }\n",
              "\n",
              "    [theme=dark] .colab-df-convert {\n",
              "      background-color: #3B4455;\n",
              "      fill: #D2E3FC;\n",
              "    }\n",
              "\n",
              "    [theme=dark] .colab-df-convert:hover {\n",
              "      background-color: #434B5C;\n",
              "      box-shadow: 0px 1px 3px 1px rgba(0, 0, 0, 0.15);\n",
              "      filter: drop-shadow(0px 1px 2px rgba(0, 0, 0, 0.3));\n",
              "      fill: #FFFFFF;\n",
              "    }\n",
              "  </style>\n",
              "\n",
              "    <script>\n",
              "      const buttonEl =\n",
              "        document.querySelector('#df-6ffbcc90-77aa-4b28-a2e1-136eae53a00e button.colab-df-convert');\n",
              "      buttonEl.style.display =\n",
              "        google.colab.kernel.accessAllowed ? 'block' : 'none';\n",
              "\n",
              "      async function convertToInteractive(key) {\n",
              "        const element = document.querySelector('#df-6ffbcc90-77aa-4b28-a2e1-136eae53a00e');\n",
              "        const dataTable =\n",
              "          await google.colab.kernel.invokeFunction('convertToInteractive',\n",
              "                                                    [key], {});\n",
              "        if (!dataTable) return;\n",
              "\n",
              "        const docLinkHtml = 'Like what you see? Visit the ' +\n",
              "          '<a target=\"_blank\" href=https://colab.research.google.com/notebooks/data_table.ipynb>data table notebook</a>'\n",
              "          + ' to learn more about interactive tables.';\n",
              "        element.innerHTML = '';\n",
              "        dataTable['output_type'] = 'display_data';\n",
              "        await google.colab.output.renderOutput(dataTable, element);\n",
              "        const docLink = document.createElement('div');\n",
              "        docLink.innerHTML = docLinkHtml;\n",
              "        element.appendChild(docLink);\n",
              "      }\n",
              "    </script>\n",
              "  </div>\n",
              "\n",
              "\n",
              "<div id=\"df-e663514d-4038-4f0c-b2c5-3f00d85c2dcd\">\n",
              "  <button class=\"colab-df-quickchart\" onclick=\"quickchart('df-e663514d-4038-4f0c-b2c5-3f00d85c2dcd')\"\n",
              "            title=\"Suggest charts\"\n",
              "            style=\"display:none;\">\n",
              "\n",
              "<svg xmlns=\"http://www.w3.org/2000/svg\" height=\"24px\"viewBox=\"0 0 24 24\"\n",
              "     width=\"24px\">\n",
              "    <g>\n",
              "        <path d=\"M19 3H5c-1.1 0-2 .9-2 2v14c0 1.1.9 2 2 2h14c1.1 0 2-.9 2-2V5c0-1.1-.9-2-2-2zM9 17H7v-7h2v7zm4 0h-2V7h2v10zm4 0h-2v-4h2v4z\"/>\n",
              "    </g>\n",
              "</svg>\n",
              "  </button>\n",
              "\n",
              "<style>\n",
              "  .colab-df-quickchart {\n",
              "      --bg-color: #E8F0FE;\n",
              "      --fill-color: #1967D2;\n",
              "      --hover-bg-color: #E2EBFA;\n",
              "      --hover-fill-color: #174EA6;\n",
              "      --disabled-fill-color: #AAA;\n",
              "      --disabled-bg-color: #DDD;\n",
              "  }\n",
              "\n",
              "  [theme=dark] .colab-df-quickchart {\n",
              "      --bg-color: #3B4455;\n",
              "      --fill-color: #D2E3FC;\n",
              "      --hover-bg-color: #434B5C;\n",
              "      --hover-fill-color: #FFFFFF;\n",
              "      --disabled-bg-color: #3B4455;\n",
              "      --disabled-fill-color: #666;\n",
              "  }\n",
              "\n",
              "  .colab-df-quickchart {\n",
              "    background-color: var(--bg-color);\n",
              "    border: none;\n",
              "    border-radius: 50%;\n",
              "    cursor: pointer;\n",
              "    display: none;\n",
              "    fill: var(--fill-color);\n",
              "    height: 32px;\n",
              "    padding: 0;\n",
              "    width: 32px;\n",
              "  }\n",
              "\n",
              "  .colab-df-quickchart:hover {\n",
              "    background-color: var(--hover-bg-color);\n",
              "    box-shadow: 0 1px 2px rgba(60, 64, 67, 0.3), 0 1px 3px 1px rgba(60, 64, 67, 0.15);\n",
              "    fill: var(--button-hover-fill-color);\n",
              "  }\n",
              "\n",
              "  .colab-df-quickchart-complete:disabled,\n",
              "  .colab-df-quickchart-complete:disabled:hover {\n",
              "    background-color: var(--disabled-bg-color);\n",
              "    fill: var(--disabled-fill-color);\n",
              "    box-shadow: none;\n",
              "  }\n",
              "\n",
              "  .colab-df-spinner {\n",
              "    border: 2px solid var(--fill-color);\n",
              "    border-color: transparent;\n",
              "    border-bottom-color: var(--fill-color);\n",
              "    animation:\n",
              "      spin 1s steps(1) infinite;\n",
              "  }\n",
              "\n",
              "  @keyframes spin {\n",
              "    0% {\n",
              "      border-color: transparent;\n",
              "      border-bottom-color: var(--fill-color);\n",
              "      border-left-color: var(--fill-color);\n",
              "    }\n",
              "    20% {\n",
              "      border-color: transparent;\n",
              "      border-left-color: var(--fill-color);\n",
              "      border-top-color: var(--fill-color);\n",
              "    }\n",
              "    30% {\n",
              "      border-color: transparent;\n",
              "      border-left-color: var(--fill-color);\n",
              "      border-top-color: var(--fill-color);\n",
              "      border-right-color: var(--fill-color);\n",
              "    }\n",
              "    40% {\n",
              "      border-color: transparent;\n",
              "      border-right-color: var(--fill-color);\n",
              "      border-top-color: var(--fill-color);\n",
              "    }\n",
              "    60% {\n",
              "      border-color: transparent;\n",
              "      border-right-color: var(--fill-color);\n",
              "    }\n",
              "    80% {\n",
              "      border-color: transparent;\n",
              "      border-right-color: var(--fill-color);\n",
              "      border-bottom-color: var(--fill-color);\n",
              "    }\n",
              "    90% {\n",
              "      border-color: transparent;\n",
              "      border-bottom-color: var(--fill-color);\n",
              "    }\n",
              "  }\n",
              "</style>\n",
              "\n",
              "  <script>\n",
              "    async function quickchart(key) {\n",
              "      const quickchartButtonEl =\n",
              "        document.querySelector('#' + key + ' button');\n",
              "      quickchartButtonEl.disabled = true;  // To prevent multiple clicks.\n",
              "      quickchartButtonEl.classList.add('colab-df-spinner');\n",
              "      try {\n",
              "        const charts = await google.colab.kernel.invokeFunction(\n",
              "            'suggestCharts', [key], {});\n",
              "      } catch (error) {\n",
              "        console.error('Error during call to suggestCharts:', error);\n",
              "      }\n",
              "      quickchartButtonEl.classList.remove('colab-df-spinner');\n",
              "      quickchartButtonEl.classList.add('colab-df-quickchart-complete');\n",
              "    }\n",
              "    (() => {\n",
              "      let quickchartButtonEl =\n",
              "        document.querySelector('#df-e663514d-4038-4f0c-b2c5-3f00d85c2dcd button');\n",
              "      quickchartButtonEl.style.display =\n",
              "        google.colab.kernel.accessAllowed ? 'block' : 'none';\n",
              "    })();\n",
              "  </script>\n",
              "</div>\n",
              "\n",
              "    </div>\n",
              "  </div>\n"
            ],
            "application/vnd.google.colaboratory.intrinsic+json": {
              "type": "dataframe",
              "variable_name": "df",
              "summary": "{\n  \"name\": \"df\",\n  \"rows\": 28619,\n  \"fields\": [\n    {\n      \"column\": \"is_sarcastic\",\n      \"properties\": {\n        \"dtype\": \"number\",\n        \"std\": 0,\n        \"min\": 0,\n        \"max\": 1,\n        \"num_unique_values\": 2,\n        \"samples\": [\n          0,\n          1\n        ],\n        \"semantic_type\": \"\",\n        \"description\": \"\"\n      }\n    },\n    {\n      \"column\": \"headline\",\n      \"properties\": {\n        \"dtype\": \"string\",\n        \"num_unique_values\": 28503,\n        \"samples\": [\n          \"marco rubio nabs his first 2016 win in minnesota gop presidential caucus\",\n          \"oops: hot mic broadcasts al roker going to the bathroom\"\n        ],\n        \"semantic_type\": \"\",\n        \"description\": \"\"\n      }\n    },\n    {\n      \"column\": \"article_link\",\n      \"properties\": {\n        \"dtype\": \"string\",\n        \"num_unique_values\": 28617,\n        \"samples\": [\n          \"https://www.huffingtonpost.com/entry/teacher-education-school-closures_n_6401316.html\",\n          \"https://www.theonion.com/drone-places-fresh-kill-on-steps-of-white-house-1819592535\"\n        ],\n        \"semantic_type\": \"\",\n        \"description\": \"\"\n      }\n    }\n  ]\n}"
            }
          },
          "metadata": {},
          "execution_count": 32
        }
      ],
      "source": [
        "df.head()"
      ]
    },
    {
      "cell_type": "code",
      "execution_count": null,
      "id": "dc8267f8-d7ac-4962-8653-a7f2ca40ffcb",
      "metadata": {
        "colab": {
          "base_uri": "https://localhost:8080/"
        },
        "id": "dc8267f8-d7ac-4962-8653-a7f2ca40ffcb",
        "outputId": "8d12548e-7f62-4115-9fd2-8c2d4df91b93"
      },
      "outputs": [
        {
          "output_type": "execute_result",
          "data": {
            "text/plain": [
              "numpy.int64"
            ]
          },
          "metadata": {},
          "execution_count": 33
        }
      ],
      "source": [
        "type(df['is_sarcastic'][0])"
      ]
    },
    {
      "cell_type": "code",
      "execution_count": null,
      "id": "fd4fae36",
      "metadata": {
        "colab": {
          "base_uri": "https://localhost:8080/",
          "height": 300
        },
        "id": "fd4fae36",
        "outputId": "906a9438-9268-4e07-94ba-f0d40faad6b9"
      },
      "outputs": [
        {
          "output_type": "execute_result",
          "data": {
            "text/plain": [
              "       is_sarcastic\n",
              "count  28619.000000\n",
              "mean       0.476397\n",
              "std        0.499451\n",
              "min        0.000000\n",
              "25%        0.000000\n",
              "50%        0.000000\n",
              "75%        1.000000\n",
              "max        1.000000"
            ],
            "text/html": [
              "\n",
              "  <div id=\"df-d37d1b61-e566-465f-9d78-4726fae891b4\" class=\"colab-df-container\">\n",
              "    <div>\n",
              "<style scoped>\n",
              "    .dataframe tbody tr th:only-of-type {\n",
              "        vertical-align: middle;\n",
              "    }\n",
              "\n",
              "    .dataframe tbody tr th {\n",
              "        vertical-align: top;\n",
              "    }\n",
              "\n",
              "    .dataframe thead th {\n",
              "        text-align: right;\n",
              "    }\n",
              "</style>\n",
              "<table border=\"1\" class=\"dataframe\">\n",
              "  <thead>\n",
              "    <tr style=\"text-align: right;\">\n",
              "      <th></th>\n",
              "      <th>is_sarcastic</th>\n",
              "    </tr>\n",
              "  </thead>\n",
              "  <tbody>\n",
              "    <tr>\n",
              "      <th>count</th>\n",
              "      <td>28619.000000</td>\n",
              "    </tr>\n",
              "    <tr>\n",
              "      <th>mean</th>\n",
              "      <td>0.476397</td>\n",
              "    </tr>\n",
              "    <tr>\n",
              "      <th>std</th>\n",
              "      <td>0.499451</td>\n",
              "    </tr>\n",
              "    <tr>\n",
              "      <th>min</th>\n",
              "      <td>0.000000</td>\n",
              "    </tr>\n",
              "    <tr>\n",
              "      <th>25%</th>\n",
              "      <td>0.000000</td>\n",
              "    </tr>\n",
              "    <tr>\n",
              "      <th>50%</th>\n",
              "      <td>0.000000</td>\n",
              "    </tr>\n",
              "    <tr>\n",
              "      <th>75%</th>\n",
              "      <td>1.000000</td>\n",
              "    </tr>\n",
              "    <tr>\n",
              "      <th>max</th>\n",
              "      <td>1.000000</td>\n",
              "    </tr>\n",
              "  </tbody>\n",
              "</table>\n",
              "</div>\n",
              "    <div class=\"colab-df-buttons\">\n",
              "\n",
              "  <div class=\"colab-df-container\">\n",
              "    <button class=\"colab-df-convert\" onclick=\"convertToInteractive('df-d37d1b61-e566-465f-9d78-4726fae891b4')\"\n",
              "            title=\"Convert this dataframe to an interactive table.\"\n",
              "            style=\"display:none;\">\n",
              "\n",
              "  <svg xmlns=\"http://www.w3.org/2000/svg\" height=\"24px\" viewBox=\"0 -960 960 960\">\n",
              "    <path d=\"M120-120v-720h720v720H120Zm60-500h600v-160H180v160Zm220 220h160v-160H400v160Zm0 220h160v-160H400v160ZM180-400h160v-160H180v160Zm440 0h160v-160H620v160ZM180-180h160v-160H180v160Zm440 0h160v-160H620v160Z\"/>\n",
              "  </svg>\n",
              "    </button>\n",
              "\n",
              "  <style>\n",
              "    .colab-df-container {\n",
              "      display:flex;\n",
              "      gap: 12px;\n",
              "    }\n",
              "\n",
              "    .colab-df-convert {\n",
              "      background-color: #E8F0FE;\n",
              "      border: none;\n",
              "      border-radius: 50%;\n",
              "      cursor: pointer;\n",
              "      display: none;\n",
              "      fill: #1967D2;\n",
              "      height: 32px;\n",
              "      padding: 0 0 0 0;\n",
              "      width: 32px;\n",
              "    }\n",
              "\n",
              "    .colab-df-convert:hover {\n",
              "      background-color: #E2EBFA;\n",
              "      box-shadow: 0px 1px 2px rgba(60, 64, 67, 0.3), 0px 1px 3px 1px rgba(60, 64, 67, 0.15);\n",
              "      fill: #174EA6;\n",
              "    }\n",
              "\n",
              "    .colab-df-buttons div {\n",
              "      margin-bottom: 4px;\n",
              "    }\n",
              "\n",
              "    [theme=dark] .colab-df-convert {\n",
              "      background-color: #3B4455;\n",
              "      fill: #D2E3FC;\n",
              "    }\n",
              "\n",
              "    [theme=dark] .colab-df-convert:hover {\n",
              "      background-color: #434B5C;\n",
              "      box-shadow: 0px 1px 3px 1px rgba(0, 0, 0, 0.15);\n",
              "      filter: drop-shadow(0px 1px 2px rgba(0, 0, 0, 0.3));\n",
              "      fill: #FFFFFF;\n",
              "    }\n",
              "  </style>\n",
              "\n",
              "    <script>\n",
              "      const buttonEl =\n",
              "        document.querySelector('#df-d37d1b61-e566-465f-9d78-4726fae891b4 button.colab-df-convert');\n",
              "      buttonEl.style.display =\n",
              "        google.colab.kernel.accessAllowed ? 'block' : 'none';\n",
              "\n",
              "      async function convertToInteractive(key) {\n",
              "        const element = document.querySelector('#df-d37d1b61-e566-465f-9d78-4726fae891b4');\n",
              "        const dataTable =\n",
              "          await google.colab.kernel.invokeFunction('convertToInteractive',\n",
              "                                                    [key], {});\n",
              "        if (!dataTable) return;\n",
              "\n",
              "        const docLinkHtml = 'Like what you see? Visit the ' +\n",
              "          '<a target=\"_blank\" href=https://colab.research.google.com/notebooks/data_table.ipynb>data table notebook</a>'\n",
              "          + ' to learn more about interactive tables.';\n",
              "        element.innerHTML = '';\n",
              "        dataTable['output_type'] = 'display_data';\n",
              "        await google.colab.output.renderOutput(dataTable, element);\n",
              "        const docLink = document.createElement('div');\n",
              "        docLink.innerHTML = docLinkHtml;\n",
              "        element.appendChild(docLink);\n",
              "      }\n",
              "    </script>\n",
              "  </div>\n",
              "\n",
              "\n",
              "<div id=\"df-196cface-0297-4298-9aaa-2b9d5b39be23\">\n",
              "  <button class=\"colab-df-quickchart\" onclick=\"quickchart('df-196cface-0297-4298-9aaa-2b9d5b39be23')\"\n",
              "            title=\"Suggest charts\"\n",
              "            style=\"display:none;\">\n",
              "\n",
              "<svg xmlns=\"http://www.w3.org/2000/svg\" height=\"24px\"viewBox=\"0 0 24 24\"\n",
              "     width=\"24px\">\n",
              "    <g>\n",
              "        <path d=\"M19 3H5c-1.1 0-2 .9-2 2v14c0 1.1.9 2 2 2h14c1.1 0 2-.9 2-2V5c0-1.1-.9-2-2-2zM9 17H7v-7h2v7zm4 0h-2V7h2v10zm4 0h-2v-4h2v4z\"/>\n",
              "    </g>\n",
              "</svg>\n",
              "  </button>\n",
              "\n",
              "<style>\n",
              "  .colab-df-quickchart {\n",
              "      --bg-color: #E8F0FE;\n",
              "      --fill-color: #1967D2;\n",
              "      --hover-bg-color: #E2EBFA;\n",
              "      --hover-fill-color: #174EA6;\n",
              "      --disabled-fill-color: #AAA;\n",
              "      --disabled-bg-color: #DDD;\n",
              "  }\n",
              "\n",
              "  [theme=dark] .colab-df-quickchart {\n",
              "      --bg-color: #3B4455;\n",
              "      --fill-color: #D2E3FC;\n",
              "      --hover-bg-color: #434B5C;\n",
              "      --hover-fill-color: #FFFFFF;\n",
              "      --disabled-bg-color: #3B4455;\n",
              "      --disabled-fill-color: #666;\n",
              "  }\n",
              "\n",
              "  .colab-df-quickchart {\n",
              "    background-color: var(--bg-color);\n",
              "    border: none;\n",
              "    border-radius: 50%;\n",
              "    cursor: pointer;\n",
              "    display: none;\n",
              "    fill: var(--fill-color);\n",
              "    height: 32px;\n",
              "    padding: 0;\n",
              "    width: 32px;\n",
              "  }\n",
              "\n",
              "  .colab-df-quickchart:hover {\n",
              "    background-color: var(--hover-bg-color);\n",
              "    box-shadow: 0 1px 2px rgba(60, 64, 67, 0.3), 0 1px 3px 1px rgba(60, 64, 67, 0.15);\n",
              "    fill: var(--button-hover-fill-color);\n",
              "  }\n",
              "\n",
              "  .colab-df-quickchart-complete:disabled,\n",
              "  .colab-df-quickchart-complete:disabled:hover {\n",
              "    background-color: var(--disabled-bg-color);\n",
              "    fill: var(--disabled-fill-color);\n",
              "    box-shadow: none;\n",
              "  }\n",
              "\n",
              "  .colab-df-spinner {\n",
              "    border: 2px solid var(--fill-color);\n",
              "    border-color: transparent;\n",
              "    border-bottom-color: var(--fill-color);\n",
              "    animation:\n",
              "      spin 1s steps(1) infinite;\n",
              "  }\n",
              "\n",
              "  @keyframes spin {\n",
              "    0% {\n",
              "      border-color: transparent;\n",
              "      border-bottom-color: var(--fill-color);\n",
              "      border-left-color: var(--fill-color);\n",
              "    }\n",
              "    20% {\n",
              "      border-color: transparent;\n",
              "      border-left-color: var(--fill-color);\n",
              "      border-top-color: var(--fill-color);\n",
              "    }\n",
              "    30% {\n",
              "      border-color: transparent;\n",
              "      border-left-color: var(--fill-color);\n",
              "      border-top-color: var(--fill-color);\n",
              "      border-right-color: var(--fill-color);\n",
              "    }\n",
              "    40% {\n",
              "      border-color: transparent;\n",
              "      border-right-color: var(--fill-color);\n",
              "      border-top-color: var(--fill-color);\n",
              "    }\n",
              "    60% {\n",
              "      border-color: transparent;\n",
              "      border-right-color: var(--fill-color);\n",
              "    }\n",
              "    80% {\n",
              "      border-color: transparent;\n",
              "      border-right-color: var(--fill-color);\n",
              "      border-bottom-color: var(--fill-color);\n",
              "    }\n",
              "    90% {\n",
              "      border-color: transparent;\n",
              "      border-bottom-color: var(--fill-color);\n",
              "    }\n",
              "  }\n",
              "</style>\n",
              "\n",
              "  <script>\n",
              "    async function quickchart(key) {\n",
              "      const quickchartButtonEl =\n",
              "        document.querySelector('#' + key + ' button');\n",
              "      quickchartButtonEl.disabled = true;  // To prevent multiple clicks.\n",
              "      quickchartButtonEl.classList.add('colab-df-spinner');\n",
              "      try {\n",
              "        const charts = await google.colab.kernel.invokeFunction(\n",
              "            'suggestCharts', [key], {});\n",
              "      } catch (error) {\n",
              "        console.error('Error during call to suggestCharts:', error);\n",
              "      }\n",
              "      quickchartButtonEl.classList.remove('colab-df-spinner');\n",
              "      quickchartButtonEl.classList.add('colab-df-quickchart-complete');\n",
              "    }\n",
              "    (() => {\n",
              "      let quickchartButtonEl =\n",
              "        document.querySelector('#df-196cface-0297-4298-9aaa-2b9d5b39be23 button');\n",
              "      quickchartButtonEl.style.display =\n",
              "        google.colab.kernel.accessAllowed ? 'block' : 'none';\n",
              "    })();\n",
              "  </script>\n",
              "</div>\n",
              "\n",
              "    </div>\n",
              "  </div>\n"
            ],
            "application/vnd.google.colaboratory.intrinsic+json": {
              "type": "dataframe",
              "summary": "{\n  \"name\": \"df\",\n  \"rows\": 8,\n  \"fields\": [\n    {\n      \"column\": \"is_sarcastic\",\n      \"properties\": {\n        \"dtype\": \"number\",\n        \"std\": 10118.194190913346,\n        \"min\": 0.0,\n        \"max\": 28619.0,\n        \"num_unique_values\": 5,\n        \"samples\": [\n          0.476396799329117,\n          1.0,\n          0.49945130414449435\n        ],\n        \"semantic_type\": \"\",\n        \"description\": \"\"\n      }\n    }\n  ]\n}"
            }
          },
          "metadata": {},
          "execution_count": 34
        }
      ],
      "source": [
        "df.drop(['article_link'], axis=1, inplace=True)\n",
        "df.describe()"
      ]
    },
    {
      "cell_type": "markdown",
      "id": "tUU_DnE9fT48",
      "metadata": {
        "id": "tUU_DnE9fT48"
      },
      "source": [
        "### The headlines in sample_df will be used to plot the text embeddings in 3d"
      ]
    },
    {
      "cell_type": "code",
      "execution_count": null,
      "id": "46cf5f31",
      "metadata": {
        "id": "46cf5f31"
      },
      "outputs": [],
      "source": [
        "_, sample_df, _, sample_labels = train_test_split(df.loc[:, df.columns != \"is_sarcastic\"],\n",
        "                                                  df[\"is_sarcastic\"],\n",
        "                                                  test_size=0.01,\n",
        "                                                  stratify=df[\"is_sarcastic\"]) #Ensures that the distribution of sarcastic and non-sarcastic samples is the same in the sample as in the original dataset"
      ]
    },
    {
      "cell_type": "code",
      "execution_count": null,
      "id": "ab47a2ae",
      "metadata": {
        "colab": {
          "base_uri": "https://localhost:8080/",
          "height": 424
        },
        "id": "ab47a2ae",
        "outputId": "ee793f38-ccbd-495c-a618-84de0c5cd1b0"
      },
      "outputs": [
        {
          "output_type": "execute_result",
          "data": {
            "text/plain": [
              "                                                headline\n",
              "24870  gop mulls forcing christine blasey ford to pub...\n",
              "5010   noel comrie's gps guide on positive self-affir...\n",
              "3345   area man incapable of making plans without exc...\n",
              "737         85 percent of u.s. cole slaw remains uneaten\n",
              "13153     new diet surge targets overweight snowboarders\n",
              "...                                                  ...\n",
              "17223  gruff, no-nonsense teacher only hard on studen...\n",
              "1536               obama blasted by cool, refreshing air\n",
              "13665  dermatologists recommend regularly checking bo...\n",
              "19525  iconic '90s band helped this couple open up ab...\n",
              "27127  jennifer lawrence and aziz ansari give new mea...\n",
              "\n",
              "[287 rows x 1 columns]"
            ],
            "text/html": [
              "\n",
              "  <div id=\"df-c6a9eddf-9f5d-4ee0-b86c-584d3d11ba9b\" class=\"colab-df-container\">\n",
              "    <div>\n",
              "<style scoped>\n",
              "    .dataframe tbody tr th:only-of-type {\n",
              "        vertical-align: middle;\n",
              "    }\n",
              "\n",
              "    .dataframe tbody tr th {\n",
              "        vertical-align: top;\n",
              "    }\n",
              "\n",
              "    .dataframe thead th {\n",
              "        text-align: right;\n",
              "    }\n",
              "</style>\n",
              "<table border=\"1\" class=\"dataframe\">\n",
              "  <thead>\n",
              "    <tr style=\"text-align: right;\">\n",
              "      <th></th>\n",
              "      <th>headline</th>\n",
              "    </tr>\n",
              "  </thead>\n",
              "  <tbody>\n",
              "    <tr>\n",
              "      <th>24870</th>\n",
              "      <td>gop mulls forcing christine blasey ford to pub...</td>\n",
              "    </tr>\n",
              "    <tr>\n",
              "      <th>5010</th>\n",
              "      <td>noel comrie's gps guide on positive self-affir...</td>\n",
              "    </tr>\n",
              "    <tr>\n",
              "      <th>3345</th>\n",
              "      <td>area man incapable of making plans without exc...</td>\n",
              "    </tr>\n",
              "    <tr>\n",
              "      <th>737</th>\n",
              "      <td>85 percent of u.s. cole slaw remains uneaten</td>\n",
              "    </tr>\n",
              "    <tr>\n",
              "      <th>13153</th>\n",
              "      <td>new diet surge targets overweight snowboarders</td>\n",
              "    </tr>\n",
              "    <tr>\n",
              "      <th>...</th>\n",
              "      <td>...</td>\n",
              "    </tr>\n",
              "    <tr>\n",
              "      <th>17223</th>\n",
              "      <td>gruff, no-nonsense teacher only hard on studen...</td>\n",
              "    </tr>\n",
              "    <tr>\n",
              "      <th>1536</th>\n",
              "      <td>obama blasted by cool, refreshing air</td>\n",
              "    </tr>\n",
              "    <tr>\n",
              "      <th>13665</th>\n",
              "      <td>dermatologists recommend regularly checking bo...</td>\n",
              "    </tr>\n",
              "    <tr>\n",
              "      <th>19525</th>\n",
              "      <td>iconic '90s band helped this couple open up ab...</td>\n",
              "    </tr>\n",
              "    <tr>\n",
              "      <th>27127</th>\n",
              "      <td>jennifer lawrence and aziz ansari give new mea...</td>\n",
              "    </tr>\n",
              "  </tbody>\n",
              "</table>\n",
              "<p>287 rows × 1 columns</p>\n",
              "</div>\n",
              "    <div class=\"colab-df-buttons\">\n",
              "\n",
              "  <div class=\"colab-df-container\">\n",
              "    <button class=\"colab-df-convert\" onclick=\"convertToInteractive('df-c6a9eddf-9f5d-4ee0-b86c-584d3d11ba9b')\"\n",
              "            title=\"Convert this dataframe to an interactive table.\"\n",
              "            style=\"display:none;\">\n",
              "\n",
              "  <svg xmlns=\"http://www.w3.org/2000/svg\" height=\"24px\" viewBox=\"0 -960 960 960\">\n",
              "    <path d=\"M120-120v-720h720v720H120Zm60-500h600v-160H180v160Zm220 220h160v-160H400v160Zm0 220h160v-160H400v160ZM180-400h160v-160H180v160Zm440 0h160v-160H620v160ZM180-180h160v-160H180v160Zm440 0h160v-160H620v160Z\"/>\n",
              "  </svg>\n",
              "    </button>\n",
              "\n",
              "  <style>\n",
              "    .colab-df-container {\n",
              "      display:flex;\n",
              "      gap: 12px;\n",
              "    }\n",
              "\n",
              "    .colab-df-convert {\n",
              "      background-color: #E8F0FE;\n",
              "      border: none;\n",
              "      border-radius: 50%;\n",
              "      cursor: pointer;\n",
              "      display: none;\n",
              "      fill: #1967D2;\n",
              "      height: 32px;\n",
              "      padding: 0 0 0 0;\n",
              "      width: 32px;\n",
              "    }\n",
              "\n",
              "    .colab-df-convert:hover {\n",
              "      background-color: #E2EBFA;\n",
              "      box-shadow: 0px 1px 2px rgba(60, 64, 67, 0.3), 0px 1px 3px 1px rgba(60, 64, 67, 0.15);\n",
              "      fill: #174EA6;\n",
              "    }\n",
              "\n",
              "    .colab-df-buttons div {\n",
              "      margin-bottom: 4px;\n",
              "    }\n",
              "\n",
              "    [theme=dark] .colab-df-convert {\n",
              "      background-color: #3B4455;\n",
              "      fill: #D2E3FC;\n",
              "    }\n",
              "\n",
              "    [theme=dark] .colab-df-convert:hover {\n",
              "      background-color: #434B5C;\n",
              "      box-shadow: 0px 1px 3px 1px rgba(0, 0, 0, 0.15);\n",
              "      filter: drop-shadow(0px 1px 2px rgba(0, 0, 0, 0.3));\n",
              "      fill: #FFFFFF;\n",
              "    }\n",
              "  </style>\n",
              "\n",
              "    <script>\n",
              "      const buttonEl =\n",
              "        document.querySelector('#df-c6a9eddf-9f5d-4ee0-b86c-584d3d11ba9b button.colab-df-convert');\n",
              "      buttonEl.style.display =\n",
              "        google.colab.kernel.accessAllowed ? 'block' : 'none';\n",
              "\n",
              "      async function convertToInteractive(key) {\n",
              "        const element = document.querySelector('#df-c6a9eddf-9f5d-4ee0-b86c-584d3d11ba9b');\n",
              "        const dataTable =\n",
              "          await google.colab.kernel.invokeFunction('convertToInteractive',\n",
              "                                                    [key], {});\n",
              "        if (!dataTable) return;\n",
              "\n",
              "        const docLinkHtml = 'Like what you see? Visit the ' +\n",
              "          '<a target=\"_blank\" href=https://colab.research.google.com/notebooks/data_table.ipynb>data table notebook</a>'\n",
              "          + ' to learn more about interactive tables.';\n",
              "        element.innerHTML = '';\n",
              "        dataTable['output_type'] = 'display_data';\n",
              "        await google.colab.output.renderOutput(dataTable, element);\n",
              "        const docLink = document.createElement('div');\n",
              "        docLink.innerHTML = docLinkHtml;\n",
              "        element.appendChild(docLink);\n",
              "      }\n",
              "    </script>\n",
              "  </div>\n",
              "\n",
              "\n",
              "<div id=\"df-8d0969cb-cd52-462a-8eb6-f440c7f7dadd\">\n",
              "  <button class=\"colab-df-quickchart\" onclick=\"quickchart('df-8d0969cb-cd52-462a-8eb6-f440c7f7dadd')\"\n",
              "            title=\"Suggest charts\"\n",
              "            style=\"display:none;\">\n",
              "\n",
              "<svg xmlns=\"http://www.w3.org/2000/svg\" height=\"24px\"viewBox=\"0 0 24 24\"\n",
              "     width=\"24px\">\n",
              "    <g>\n",
              "        <path d=\"M19 3H5c-1.1 0-2 .9-2 2v14c0 1.1.9 2 2 2h14c1.1 0 2-.9 2-2V5c0-1.1-.9-2-2-2zM9 17H7v-7h2v7zm4 0h-2V7h2v10zm4 0h-2v-4h2v4z\"/>\n",
              "    </g>\n",
              "</svg>\n",
              "  </button>\n",
              "\n",
              "<style>\n",
              "  .colab-df-quickchart {\n",
              "      --bg-color: #E8F0FE;\n",
              "      --fill-color: #1967D2;\n",
              "      --hover-bg-color: #E2EBFA;\n",
              "      --hover-fill-color: #174EA6;\n",
              "      --disabled-fill-color: #AAA;\n",
              "      --disabled-bg-color: #DDD;\n",
              "  }\n",
              "\n",
              "  [theme=dark] .colab-df-quickchart {\n",
              "      --bg-color: #3B4455;\n",
              "      --fill-color: #D2E3FC;\n",
              "      --hover-bg-color: #434B5C;\n",
              "      --hover-fill-color: #FFFFFF;\n",
              "      --disabled-bg-color: #3B4455;\n",
              "      --disabled-fill-color: #666;\n",
              "  }\n",
              "\n",
              "  .colab-df-quickchart {\n",
              "    background-color: var(--bg-color);\n",
              "    border: none;\n",
              "    border-radius: 50%;\n",
              "    cursor: pointer;\n",
              "    display: none;\n",
              "    fill: var(--fill-color);\n",
              "    height: 32px;\n",
              "    padding: 0;\n",
              "    width: 32px;\n",
              "  }\n",
              "\n",
              "  .colab-df-quickchart:hover {\n",
              "    background-color: var(--hover-bg-color);\n",
              "    box-shadow: 0 1px 2px rgba(60, 64, 67, 0.3), 0 1px 3px 1px rgba(60, 64, 67, 0.15);\n",
              "    fill: var(--button-hover-fill-color);\n",
              "  }\n",
              "\n",
              "  .colab-df-quickchart-complete:disabled,\n",
              "  .colab-df-quickchart-complete:disabled:hover {\n",
              "    background-color: var(--disabled-bg-color);\n",
              "    fill: var(--disabled-fill-color);\n",
              "    box-shadow: none;\n",
              "  }\n",
              "\n",
              "  .colab-df-spinner {\n",
              "    border: 2px solid var(--fill-color);\n",
              "    border-color: transparent;\n",
              "    border-bottom-color: var(--fill-color);\n",
              "    animation:\n",
              "      spin 1s steps(1) infinite;\n",
              "  }\n",
              "\n",
              "  @keyframes spin {\n",
              "    0% {\n",
              "      border-color: transparent;\n",
              "      border-bottom-color: var(--fill-color);\n",
              "      border-left-color: var(--fill-color);\n",
              "    }\n",
              "    20% {\n",
              "      border-color: transparent;\n",
              "      border-left-color: var(--fill-color);\n",
              "      border-top-color: var(--fill-color);\n",
              "    }\n",
              "    30% {\n",
              "      border-color: transparent;\n",
              "      border-left-color: var(--fill-color);\n",
              "      border-top-color: var(--fill-color);\n",
              "      border-right-color: var(--fill-color);\n",
              "    }\n",
              "    40% {\n",
              "      border-color: transparent;\n",
              "      border-right-color: var(--fill-color);\n",
              "      border-top-color: var(--fill-color);\n",
              "    }\n",
              "    60% {\n",
              "      border-color: transparent;\n",
              "      border-right-color: var(--fill-color);\n",
              "    }\n",
              "    80% {\n",
              "      border-color: transparent;\n",
              "      border-right-color: var(--fill-color);\n",
              "      border-bottom-color: var(--fill-color);\n",
              "    }\n",
              "    90% {\n",
              "      border-color: transparent;\n",
              "      border-bottom-color: var(--fill-color);\n",
              "    }\n",
              "  }\n",
              "</style>\n",
              "\n",
              "  <script>\n",
              "    async function quickchart(key) {\n",
              "      const quickchartButtonEl =\n",
              "        document.querySelector('#' + key + ' button');\n",
              "      quickchartButtonEl.disabled = true;  // To prevent multiple clicks.\n",
              "      quickchartButtonEl.classList.add('colab-df-spinner');\n",
              "      try {\n",
              "        const charts = await google.colab.kernel.invokeFunction(\n",
              "            'suggestCharts', [key], {});\n",
              "      } catch (error) {\n",
              "        console.error('Error during call to suggestCharts:', error);\n",
              "      }\n",
              "      quickchartButtonEl.classList.remove('colab-df-spinner');\n",
              "      quickchartButtonEl.classList.add('colab-df-quickchart-complete');\n",
              "    }\n",
              "    (() => {\n",
              "      let quickchartButtonEl =\n",
              "        document.querySelector('#df-8d0969cb-cd52-462a-8eb6-f440c7f7dadd button');\n",
              "      quickchartButtonEl.style.display =\n",
              "        google.colab.kernel.accessAllowed ? 'block' : 'none';\n",
              "    })();\n",
              "  </script>\n",
              "</div>\n",
              "\n",
              "  <div id=\"id_e955c7ca-35e6-4640-81cb-f20de97313cf\">\n",
              "    <style>\n",
              "      .colab-df-generate {\n",
              "        background-color: #E8F0FE;\n",
              "        border: none;\n",
              "        border-radius: 50%;\n",
              "        cursor: pointer;\n",
              "        display: none;\n",
              "        fill: #1967D2;\n",
              "        height: 32px;\n",
              "        padding: 0 0 0 0;\n",
              "        width: 32px;\n",
              "      }\n",
              "\n",
              "      .colab-df-generate:hover {\n",
              "        background-color: #E2EBFA;\n",
              "        box-shadow: 0px 1px 2px rgba(60, 64, 67, 0.3), 0px 1px 3px 1px rgba(60, 64, 67, 0.15);\n",
              "        fill: #174EA6;\n",
              "      }\n",
              "\n",
              "      [theme=dark] .colab-df-generate {\n",
              "        background-color: #3B4455;\n",
              "        fill: #D2E3FC;\n",
              "      }\n",
              "\n",
              "      [theme=dark] .colab-df-generate:hover {\n",
              "        background-color: #434B5C;\n",
              "        box-shadow: 0px 1px 3px 1px rgba(0, 0, 0, 0.15);\n",
              "        filter: drop-shadow(0px 1px 2px rgba(0, 0, 0, 0.3));\n",
              "        fill: #FFFFFF;\n",
              "      }\n",
              "    </style>\n",
              "    <button class=\"colab-df-generate\" onclick=\"generateWithVariable('sample_df')\"\n",
              "            title=\"Generate code using this dataframe.\"\n",
              "            style=\"display:none;\">\n",
              "\n",
              "  <svg xmlns=\"http://www.w3.org/2000/svg\" height=\"24px\"viewBox=\"0 0 24 24\"\n",
              "       width=\"24px\">\n",
              "    <path d=\"M7,19H8.4L18.45,9,17,7.55,7,17.6ZM5,21V16.75L18.45,3.32a2,2,0,0,1,2.83,0l1.4,1.43a1.91,1.91,0,0,1,.58,1.4,1.91,1.91,0,0,1-.58,1.4L9.25,21ZM18.45,9,17,7.55Zm-12,3A5.31,5.31,0,0,0,4.9,8.1,5.31,5.31,0,0,0,1,6.5,5.31,5.31,0,0,0,4.9,4.9,5.31,5.31,0,0,0,6.5,1,5.31,5.31,0,0,0,8.1,4.9,5.31,5.31,0,0,0,12,6.5,5.46,5.46,0,0,0,6.5,12Z\"/>\n",
              "  </svg>\n",
              "    </button>\n",
              "    <script>\n",
              "      (() => {\n",
              "      const buttonEl =\n",
              "        document.querySelector('#id_e955c7ca-35e6-4640-81cb-f20de97313cf button.colab-df-generate');\n",
              "      buttonEl.style.display =\n",
              "        google.colab.kernel.accessAllowed ? 'block' : 'none';\n",
              "\n",
              "      buttonEl.onclick = () => {\n",
              "        google.colab.notebook.generateWithVariable('sample_df');\n",
              "      }\n",
              "      })();\n",
              "    </script>\n",
              "  </div>\n",
              "\n",
              "    </div>\n",
              "  </div>\n"
            ],
            "application/vnd.google.colaboratory.intrinsic+json": {
              "type": "dataframe",
              "variable_name": "sample_df",
              "summary": "{\n  \"name\": \"sample_df\",\n  \"rows\": 287,\n  \"fields\": [\n    {\n      \"column\": \"headline\",\n      \"properties\": {\n        \"dtype\": \"string\",\n        \"num_unique_values\": 287,\n        \"samples\": [\n          \"decoding america's immigration sentiment\",\n          \"bose releases new headphones specifically optimized for listening to whitney houston's 'how will i know?'\",\n          \"trump unveils plan to address migrants with new open-fire policy\"\n        ],\n        \"semantic_type\": \"\",\n        \"description\": \"\"\n      }\n    }\n  ]\n}"
            }
          },
          "metadata": {},
          "execution_count": 36
        }
      ],
      "source": [
        "sample_df"
      ]
    },
    {
      "cell_type": "code",
      "execution_count": null,
      "id": "39631e2e",
      "metadata": {
        "colab": {
          "base_uri": "https://localhost:8080/",
          "height": 458
        },
        "id": "39631e2e",
        "outputId": "0b5d2043-ebcc-4456-8078-ae0e3a068da5"
      },
      "outputs": [
        {
          "output_type": "execute_result",
          "data": {
            "text/plain": [
              "24870    1\n",
              "5010     0\n",
              "3345     1\n",
              "737      1\n",
              "13153    1\n",
              "        ..\n",
              "17223    1\n",
              "1536     1\n",
              "13665    1\n",
              "19525    0\n",
              "27127    0\n",
              "Name: is_sarcastic, Length: 287, dtype: int64"
            ],
            "text/html": [
              "<div>\n",
              "<style scoped>\n",
              "    .dataframe tbody tr th:only-of-type {\n",
              "        vertical-align: middle;\n",
              "    }\n",
              "\n",
              "    .dataframe tbody tr th {\n",
              "        vertical-align: top;\n",
              "    }\n",
              "\n",
              "    .dataframe thead th {\n",
              "        text-align: right;\n",
              "    }\n",
              "</style>\n",
              "<table border=\"1\" class=\"dataframe\">\n",
              "  <thead>\n",
              "    <tr style=\"text-align: right;\">\n",
              "      <th></th>\n",
              "      <th>is_sarcastic</th>\n",
              "    </tr>\n",
              "  </thead>\n",
              "  <tbody>\n",
              "    <tr>\n",
              "      <th>24870</th>\n",
              "      <td>1</td>\n",
              "    </tr>\n",
              "    <tr>\n",
              "      <th>5010</th>\n",
              "      <td>0</td>\n",
              "    </tr>\n",
              "    <tr>\n",
              "      <th>3345</th>\n",
              "      <td>1</td>\n",
              "    </tr>\n",
              "    <tr>\n",
              "      <th>737</th>\n",
              "      <td>1</td>\n",
              "    </tr>\n",
              "    <tr>\n",
              "      <th>13153</th>\n",
              "      <td>1</td>\n",
              "    </tr>\n",
              "    <tr>\n",
              "      <th>...</th>\n",
              "      <td>...</td>\n",
              "    </tr>\n",
              "    <tr>\n",
              "      <th>17223</th>\n",
              "      <td>1</td>\n",
              "    </tr>\n",
              "    <tr>\n",
              "      <th>1536</th>\n",
              "      <td>1</td>\n",
              "    </tr>\n",
              "    <tr>\n",
              "      <th>13665</th>\n",
              "      <td>1</td>\n",
              "    </tr>\n",
              "    <tr>\n",
              "      <th>19525</th>\n",
              "      <td>0</td>\n",
              "    </tr>\n",
              "    <tr>\n",
              "      <th>27127</th>\n",
              "      <td>0</td>\n",
              "    </tr>\n",
              "  </tbody>\n",
              "</table>\n",
              "<p>287 rows × 1 columns</p>\n",
              "</div><br><label><b>dtype:</b> int64</label>"
            ]
          },
          "metadata": {},
          "execution_count": 37
        }
      ],
      "source": [
        "sample_labels"
      ]
    },
    {
      "cell_type": "markdown",
      "source": [
        "RoBERTa and Text Embeddings\n",
        "-----------------------------------------------------"
      ],
      "metadata": {
        "id": "B5dTA0UCbFQk"
      },
      "id": "B5dTA0UCbFQk"
    },
    {
      "cell_type": "markdown",
      "id": "RR_Su91SnpqG",
      "metadata": {
        "id": "RR_Su91SnpqG"
      },
      "source": [
        "Since machine learning algorithms have a mathematical foundation, they do not operate well with words. To allow the model training to be done on the data, the data must be first converted into something XGBoost can process: numerical vectors.  \n",
        "\n",
        "It is possible to assign a random number to every word present in the dataset, however, this might result in words that are similar in meaning or synonymous having very different numbers.\n",
        "\n",
        "To simplify the complexity of XGBoosts’ forest, and to help it process words correctly, words that are similar in meaning should have similar numbers.\n",
        "\n",
        "Additionally, it is advantageous for words to be assigned more than one number, depending on what context they are used for. For example, the word Great can have two numbers assigned to it: it can be used in a positive way, or in a sarcastic way depicting a negative situation.  \n",
        "\n",
        "Doing this is impossibly long to do manually. Therefore, the program imports the TransformerDocumentEmbeddings class from the flair.embeddings module to capture semantic relationships between words in the dataset and specifies the 'roberta-base' as the underlying transformer model to generate text embeddings (word to vector conversion).  \n",
        "\n",
        "These text embeddings will represent the words in a dense vector to assure that similar words stay together and can then be used as input for XGBoost to classify headlines as sarcastic or not."
      ]
    },
    {
      "cell_type": "code",
      "execution_count": null,
      "id": "dda33d85",
      "metadata": {
        "id": "dda33d85"
      },
      "outputs": [],
      "source": [
        "from flair.embeddings import TransformerDocumentEmbeddings\n",
        "\n",
        "embedding = TransformerDocumentEmbeddings('roberta-base')\n",
        "\n",
        "# create a sentence\n",
        "sentence = Sentence('The grass is green or possible not.')\n",
        "\n",
        "pupa = embedding.embed(sentence)"
      ]
    },
    {
      "cell_type": "code",
      "execution_count": null,
      "id": "6e699026",
      "metadata": {
        "id": "6e699026"
      },
      "outputs": [],
      "source": [
        "#pupa[0].embedding"
      ]
    },
    {
      "cell_type": "markdown",
      "id": "Rk_kLxYSpJej",
      "metadata": {
        "id": "Rk_kLxYSpJej"
      },
      "source": [
        "RoBERTa is a natural language processing model designed to analyze and understand text. This model encodes its meaning into 768-dimensional vectors. The first step in using this model is called tokenization. The tokenizer takes either words or subwords and splits them into tokens. This process converts raw text into smaller units that the model can process. This process is crucial for breaking down the text into manageable and meaningful pieces. Each token is converted into a 768-dimensional vector which is an embedding that encodes its identity and position (the context of nearby tokens).\n",
        "\n",
        "To continue, the tokenized input is then passed into the encoder, which is a neural network containing a series of neuron layers. The encoder uses neighbourhood awareness, a self-attention mechanism. Each token’s vector is updated by considering all the other tokens in the input. This process helps the model capture semantic relationships between tokens, even across long sequences, within a context window of up to 512 tokens.\n",
        "\n",
        "The encoder computes a weighted combination of these surrounding token vectors, assigning more importance to tokens that are most relevant to the current token. During training, the neural network learns these weights by adjusting how much attention each token pays to others in the sequence. These learned weights enable the model to capture the relationships and context between tokens to make accurate predictions. Each token's updated vector is a linear combination of all the token vectors in the sequence. This means the 768 components of the vector are computed as combinations of the corresponding components of nearby tokens. This helps capture complex relationships, such as a word's meaning in a sentence's context.\n",
        "\n",
        "After computing the weighted combinations, the encoder applies non-linear functions through neural network layers. These transformations add flexibility and allow the model to learn more complex patterns. They allow the model to go beyond simple linear relationships and capture intricate dependencies between words and sentences.\n",
        "\n",
        "RoBERTa’s encoder consists of 12 layers. In each layer, the token vectors are refined further. Each layer does two main things: mixing the vectors and applying non-linear transformations. Through each layer, this \"mixing\" makes the vector for each token increasingly context-aware, blending information from its surrounding tokens. After 12 layers, the model ideally has produced semantic vectors. Each of these vectors no longer represents just the original token. They now reflect the full context of the token, capturing both its position in the sequence and its relationship to every other token in the input. At this point, each token's vector is semantically aware, meaning it understands its meaning in the context of the entire sentence or passage.\n"
      ]
    },
    {
      "cell_type": "code",
      "execution_count": null,
      "id": "3913e0c5",
      "metadata": {
        "colab": {
          "base_uri": "https://localhost:8080/"
        },
        "id": "3913e0c5",
        "outputId": "40002f12-6043-43ea-a51e-0b3a2d892aff"
      },
      "outputs": [
        {
          "output_type": "execute_result",
          "data": {
            "text/plain": [
              "768"
            ]
          },
          "metadata": {},
          "execution_count": 40
        }
      ],
      "source": [
        "len(pupa[0].embedding)"
      ]
    },
    {
      "cell_type": "code",
      "execution_count": null,
      "id": "e6fa0db0",
      "metadata": {
        "id": "e6fa0db0"
      },
      "outputs": [],
      "source": [
        "def get_embeddings(texts):\n",
        "    all_embeddings = []\n",
        "    print(f\"Total number of records: {len(texts)}\")\n",
        "\n",
        "    # Extract embeddings for the texts in batches\n",
        "    for element in texts:\n",
        "\n",
        "        sentence = Sentence(element)\n",
        "\n",
        "        embedi = embedding.embed(sentence)\n",
        "        array = embedi[0].embedding\n",
        "\n",
        "        all_embeddings.append(array)\n",
        "\n",
        "    return all_embeddings"
      ]
    },
    {
      "cell_type": "code",
      "execution_count": null,
      "id": "66d6ffdb",
      "metadata": {
        "colab": {
          "base_uri": "https://localhost:8080/"
        },
        "id": "66d6ffdb",
        "outputId": "38906293-23ee-4e6d-ef1b-d5864095eb44"
      },
      "outputs": [
        {
          "output_type": "stream",
          "name": "stdout",
          "text": [
            "Total number of records: 287\n"
          ]
        }
      ],
      "source": [
        "embeddings = get_embeddings(sample_df['headline'])"
      ]
    },
    {
      "cell_type": "code",
      "execution_count": null,
      "id": "9eb5e26a",
      "metadata": {
        "colab": {
          "base_uri": "https://localhost:8080/"
        },
        "id": "9eb5e26a",
        "outputId": "e5c215f4-4795-4ca6-f07d-02696ebb860f"
      },
      "outputs": [
        {
          "output_type": "execute_result",
          "data": {
            "text/plain": [
              "(list, 287, torch.Size([768]))"
            ]
          },
          "metadata": {},
          "execution_count": 43
        }
      ],
      "source": [
        "type(embeddings), len(embeddings), embeddings[0].shape"
      ]
    },
    {
      "cell_type": "code",
      "execution_count": null,
      "id": "2e4262c9",
      "metadata": {
        "id": "2e4262c9"
      },
      "outputs": [],
      "source": [
        "embeddings_array = np.array([x.cpu() for x in embeddings])"
      ]
    },
    {
      "cell_type": "code",
      "execution_count": null,
      "id": "0fdb34c7-483a-4780-9f85-97e8a123855d",
      "metadata": {
        "colab": {
          "base_uri": "https://localhost:8080/"
        },
        "id": "0fdb34c7-483a-4780-9f85-97e8a123855d",
        "outputId": "d1692618-244d-41a4-f5ee-ee7197f3ddc8"
      },
      "outputs": [
        {
          "output_type": "execute_result",
          "data": {
            "text/plain": [
              "(287, 768)"
            ]
          },
          "metadata": {},
          "execution_count": 45
        }
      ],
      "source": [
        "embeddings_array.shape"
      ]
    },
    {
      "cell_type": "markdown",
      "source": [
        "UMAP and 3D Scatter Plot\n",
        "-------------------"
      ],
      "metadata": {
        "id": "cKGm-_anbkyv"
      },
      "id": "cKGm-_anbkyv"
    },
    {
      "cell_type": "markdown",
      "source": [
        "To get a visual representation of the relationship between the headlines, the RoBERTa embeddings can be plotted to see how headlines cluster based on their similarities in meaning. However, 768 dimensions are difficult to visualise. Therefore, the program uses UMAP, or Uniform Manifold Approximation and Projection to reduce the dimensionality of the embeddings from 768 to 3.\n"
      ],
      "metadata": {
        "id": "p4ufgcZvUDF0"
      },
      "id": "p4ufgcZvUDF0"
    },
    {
      "cell_type": "markdown",
      "source": [
        "## <font color=\"red\">EXPLAIN BRIEFLY HOW UMAP WORKS:"
      ],
      "metadata": {
        "id": "TkNH-m3Daf7u"
      },
      "id": "TkNH-m3Daf7u"
    },
    {
      "cell_type": "code",
      "execution_count": null,
      "id": "4e25a63e-8156-4410-bd68-3a006eaa68d4",
      "metadata": {
        "id": "4e25a63e-8156-4410-bd68-3a006eaa68d4"
      },
      "outputs": [],
      "source": [
        "reducer = UMAP(n_neighbors=5, n_components=3, metric='cosine', min_dist=0.05, spread=0.5)\n",
        "reduced_embeddings = reducer.fit_transform(embeddings_array)"
      ]
    },
    {
      "cell_type": "code",
      "execution_count": null,
      "id": "bdf982e9-db78-40f4-895b-d4920b8cd558",
      "metadata": {
        "id": "bdf982e9-db78-40f4-895b-d4920b8cd558"
      },
      "outputs": [],
      "source": [
        "x, y, z = reduced_embeddings[:,0], reduced_embeddings[:,1], reduced_embeddings[:,2]"
      ]
    },
    {
      "cell_type": "code",
      "execution_count": null,
      "id": "1ba3807f-02fe-4a7d-b492-98a8c25455d4",
      "metadata": {
        "id": "1ba3807f-02fe-4a7d-b492-98a8c25455d4"
      },
      "outputs": [],
      "source": [
        "labels = ['not sarcastic', 'sarcastic']\n",
        "unique_labels = np.unique(sample_labels)"
      ]
    },
    {
      "cell_type": "code",
      "execution_count": null,
      "id": "B4I77d4Khbbw",
      "metadata": {
        "id": "B4I77d4Khbbw"
      },
      "outputs": [],
      "source": [
        "colors = plt.cm.rainbow(np.linspace(0, 1, len(unique_labels)))\n",
        "label_color_dict = dict(zip(unique_labels, colors))"
      ]
    },
    {
      "cell_type": "markdown",
      "source": [
        "In the 3D scatter plot, each point represents a headline where the red are sarcastic and the purple are non-sarcastic. The point's position in the space is\n",
        "determined by the reduced embedding obtained from the UMAP. Although the embedding is reduced, the plot preserves the relationship between the points as much as possible. This means that headlines (points) that are similar in meaning (share close sematic relationships) will be located near each other in the (x,y,z) plot.\n",
        "\n",
        "The purpose of the plot is to visually determine if there is a distinction between the sarcastic and non-sarcastic headlines.\n",
        "\n",
        "In a perfect model, all of the points representing the sarcastic headlines would be clustered together and all of the points representing the the non-sarcastic headlines would be clustered distinctively from the others (clear seperation)."
      ],
      "metadata": {
        "id": "6QQ1_ZBOYtBG"
      },
      "id": "6QQ1_ZBOYtBG"
    },
    {
      "cell_type": "code",
      "execution_count": null,
      "id": "H0JW3AMdovUS",
      "metadata": {
        "colab": {
          "base_uri": "https://localhost:8080/",
          "height": 542
        },
        "id": "H0JW3AMdovUS",
        "outputId": "d1a73e60-38f9-4c9a-9944-f5589ff2d189"
      },
      "outputs": [
        {
          "output_type": "display_data",
          "data": {
            "text/html": [
              "<html>\n",
              "<head><meta charset=\"utf-8\" /></head>\n",
              "<body>\n",
              "    <div>            <script src=\"https://cdnjs.cloudflare.com/ajax/libs/mathjax/2.7.5/MathJax.js?config=TeX-AMS-MML_SVG\"></script><script type=\"text/javascript\">if (window.MathJax && window.MathJax.Hub && window.MathJax.Hub.Config) {window.MathJax.Hub.Config({SVG: {font: \"STIX-Web\"}});}</script>                <script type=\"text/javascript\">window.PlotlyConfig = {MathJaxConfig: 'local'};</script>\n",
              "        <script charset=\"utf-8\" src=\"https://cdn.plot.ly/plotly-2.35.2.min.js\"></script>                <div id=\"acec8685-1865-46d6-bf8e-1d3544e87d08\" class=\"plotly-graph-div\" style=\"height:525px; width:100%;\"></div>            <script type=\"text/javascript\">                                    window.PLOTLYENV=window.PLOTLYENV || {};                                    if (document.getElementById(\"acec8685-1865-46d6-bf8e-1d3544e87d08\")) {                    Plotly.newPlot(                        \"acec8685-1865-46d6-bf8e-1d3544e87d08\",                        [{\"marker\":{\"color\":[[1.0,1.2246467991473532e-16,6.123233995736766e-17,1.0],[0.5,0.0,1.0,1.0],[1.0,1.2246467991473532e-16,6.123233995736766e-17,1.0],[1.0,1.2246467991473532e-16,6.123233995736766e-17,1.0],[1.0,1.2246467991473532e-16,6.123233995736766e-17,1.0],[0.5,0.0,1.0,1.0],[0.5,0.0,1.0,1.0],[0.5,0.0,1.0,1.0],[1.0,1.2246467991473532e-16,6.123233995736766e-17,1.0],[0.5,0.0,1.0,1.0],[0.5,0.0,1.0,1.0],[0.5,0.0,1.0,1.0],[1.0,1.2246467991473532e-16,6.123233995736766e-17,1.0],[0.5,0.0,1.0,1.0],[0.5,0.0,1.0,1.0],[0.5,0.0,1.0,1.0],[0.5,0.0,1.0,1.0],[0.5,0.0,1.0,1.0],[1.0,1.2246467991473532e-16,6.123233995736766e-17,1.0],[1.0,1.2246467991473532e-16,6.123233995736766e-17,1.0],[1.0,1.2246467991473532e-16,6.123233995736766e-17,1.0],[1.0,1.2246467991473532e-16,6.123233995736766e-17,1.0],[0.5,0.0,1.0,1.0],[0.5,0.0,1.0,1.0],[0.5,0.0,1.0,1.0],[0.5,0.0,1.0,1.0],[1.0,1.2246467991473532e-16,6.123233995736766e-17,1.0],[1.0,1.2246467991473532e-16,6.123233995736766e-17,1.0],[1.0,1.2246467991473532e-16,6.123233995736766e-17,1.0],[1.0,1.2246467991473532e-16,6.123233995736766e-17,1.0],[0.5,0.0,1.0,1.0],[1.0,1.2246467991473532e-16,6.123233995736766e-17,1.0],[1.0,1.2246467991473532e-16,6.123233995736766e-17,1.0],[1.0,1.2246467991473532e-16,6.123233995736766e-17,1.0],[1.0,1.2246467991473532e-16,6.123233995736766e-17,1.0],[0.5,0.0,1.0,1.0],[1.0,1.2246467991473532e-16,6.123233995736766e-17,1.0],[1.0,1.2246467991473532e-16,6.123233995736766e-17,1.0],[0.5,0.0,1.0,1.0],[1.0,1.2246467991473532e-16,6.123233995736766e-17,1.0],[0.5,0.0,1.0,1.0],[0.5,0.0,1.0,1.0],[1.0,1.2246467991473532e-16,6.123233995736766e-17,1.0],[1.0,1.2246467991473532e-16,6.123233995736766e-17,1.0],[1.0,1.2246467991473532e-16,6.123233995736766e-17,1.0],[0.5,0.0,1.0,1.0],[1.0,1.2246467991473532e-16,6.123233995736766e-17,1.0],[1.0,1.2246467991473532e-16,6.123233995736766e-17,1.0],[0.5,0.0,1.0,1.0],[0.5,0.0,1.0,1.0],[0.5,0.0,1.0,1.0],[1.0,1.2246467991473532e-16,6.123233995736766e-17,1.0],[1.0,1.2246467991473532e-16,6.123233995736766e-17,1.0],[0.5,0.0,1.0,1.0],[0.5,0.0,1.0,1.0],[1.0,1.2246467991473532e-16,6.123233995736766e-17,1.0],[1.0,1.2246467991473532e-16,6.123233995736766e-17,1.0],[1.0,1.2246467991473532e-16,6.123233995736766e-17,1.0],[0.5,0.0,1.0,1.0],[1.0,1.2246467991473532e-16,6.123233995736766e-17,1.0],[0.5,0.0,1.0,1.0],[1.0,1.2246467991473532e-16,6.123233995736766e-17,1.0],[0.5,0.0,1.0,1.0],[0.5,0.0,1.0,1.0],[0.5,0.0,1.0,1.0],[0.5,0.0,1.0,1.0],[1.0,1.2246467991473532e-16,6.123233995736766e-17,1.0],[1.0,1.2246467991473532e-16,6.123233995736766e-17,1.0],[1.0,1.2246467991473532e-16,6.123233995736766e-17,1.0],[0.5,0.0,1.0,1.0],[0.5,0.0,1.0,1.0],[1.0,1.2246467991473532e-16,6.123233995736766e-17,1.0],[1.0,1.2246467991473532e-16,6.123233995736766e-17,1.0],[0.5,0.0,1.0,1.0],[1.0,1.2246467991473532e-16,6.123233995736766e-17,1.0],[0.5,0.0,1.0,1.0],[0.5,0.0,1.0,1.0],[1.0,1.2246467991473532e-16,6.123233995736766e-17,1.0],[0.5,0.0,1.0,1.0],[1.0,1.2246467991473532e-16,6.123233995736766e-17,1.0],[1.0,1.2246467991473532e-16,6.123233995736766e-17,1.0],[0.5,0.0,1.0,1.0],[1.0,1.2246467991473532e-16,6.123233995736766e-17,1.0],[0.5,0.0,1.0,1.0],[0.5,0.0,1.0,1.0],[0.5,0.0,1.0,1.0],[0.5,0.0,1.0,1.0],[0.5,0.0,1.0,1.0],[0.5,0.0,1.0,1.0],[0.5,0.0,1.0,1.0],[0.5,0.0,1.0,1.0],[1.0,1.2246467991473532e-16,6.123233995736766e-17,1.0],[0.5,0.0,1.0,1.0],[1.0,1.2246467991473532e-16,6.123233995736766e-17,1.0],[0.5,0.0,1.0,1.0],[0.5,0.0,1.0,1.0],[1.0,1.2246467991473532e-16,6.123233995736766e-17,1.0],[1.0,1.2246467991473532e-16,6.123233995736766e-17,1.0],[1.0,1.2246467991473532e-16,6.123233995736766e-17,1.0],[0.5,0.0,1.0,1.0],[0.5,0.0,1.0,1.0],[1.0,1.2246467991473532e-16,6.123233995736766e-17,1.0],[0.5,0.0,1.0,1.0],[0.5,0.0,1.0,1.0],[0.5,0.0,1.0,1.0],[0.5,0.0,1.0,1.0],[1.0,1.2246467991473532e-16,6.123233995736766e-17,1.0],[0.5,0.0,1.0,1.0],[1.0,1.2246467991473532e-16,6.123233995736766e-17,1.0],[0.5,0.0,1.0,1.0],[1.0,1.2246467991473532e-16,6.123233995736766e-17,1.0],[1.0,1.2246467991473532e-16,6.123233995736766e-17,1.0],[1.0,1.2246467991473532e-16,6.123233995736766e-17,1.0],[1.0,1.2246467991473532e-16,6.123233995736766e-17,1.0],[0.5,0.0,1.0,1.0],[0.5,0.0,1.0,1.0],[0.5,0.0,1.0,1.0],[1.0,1.2246467991473532e-16,6.123233995736766e-17,1.0],[1.0,1.2246467991473532e-16,6.123233995736766e-17,1.0],[0.5,0.0,1.0,1.0],[1.0,1.2246467991473532e-16,6.123233995736766e-17,1.0],[0.5,0.0,1.0,1.0],[0.5,0.0,1.0,1.0],[0.5,0.0,1.0,1.0],[0.5,0.0,1.0,1.0],[1.0,1.2246467991473532e-16,6.123233995736766e-17,1.0],[0.5,0.0,1.0,1.0],[0.5,0.0,1.0,1.0],[1.0,1.2246467991473532e-16,6.123233995736766e-17,1.0],[1.0,1.2246467991473532e-16,6.123233995736766e-17,1.0],[0.5,0.0,1.0,1.0],[1.0,1.2246467991473532e-16,6.123233995736766e-17,1.0],[1.0,1.2246467991473532e-16,6.123233995736766e-17,1.0],[1.0,1.2246467991473532e-16,6.123233995736766e-17,1.0],[0.5,0.0,1.0,1.0],[1.0,1.2246467991473532e-16,6.123233995736766e-17,1.0],[1.0,1.2246467991473532e-16,6.123233995736766e-17,1.0],[1.0,1.2246467991473532e-16,6.123233995736766e-17,1.0],[0.5,0.0,1.0,1.0],[0.5,0.0,1.0,1.0],[0.5,0.0,1.0,1.0],[0.5,0.0,1.0,1.0],[1.0,1.2246467991473532e-16,6.123233995736766e-17,1.0],[1.0,1.2246467991473532e-16,6.123233995736766e-17,1.0],[1.0,1.2246467991473532e-16,6.123233995736766e-17,1.0],[0.5,0.0,1.0,1.0],[0.5,0.0,1.0,1.0],[0.5,0.0,1.0,1.0],[1.0,1.2246467991473532e-16,6.123233995736766e-17,1.0],[1.0,1.2246467991473532e-16,6.123233995736766e-17,1.0],[0.5,0.0,1.0,1.0],[0.5,0.0,1.0,1.0],[1.0,1.2246467991473532e-16,6.123233995736766e-17,1.0],[1.0,1.2246467991473532e-16,6.123233995736766e-17,1.0],[1.0,1.2246467991473532e-16,6.123233995736766e-17,1.0],[0.5,0.0,1.0,1.0],[0.5,0.0,1.0,1.0],[0.5,0.0,1.0,1.0],[0.5,0.0,1.0,1.0],[0.5,0.0,1.0,1.0],[1.0,1.2246467991473532e-16,6.123233995736766e-17,1.0],[0.5,0.0,1.0,1.0],[1.0,1.2246467991473532e-16,6.123233995736766e-17,1.0],[0.5,0.0,1.0,1.0],[1.0,1.2246467991473532e-16,6.123233995736766e-17,1.0],[0.5,0.0,1.0,1.0],[0.5,0.0,1.0,1.0],[1.0,1.2246467991473532e-16,6.123233995736766e-17,1.0],[0.5,0.0,1.0,1.0],[1.0,1.2246467991473532e-16,6.123233995736766e-17,1.0],[0.5,0.0,1.0,1.0],[0.5,0.0,1.0,1.0],[1.0,1.2246467991473532e-16,6.123233995736766e-17,1.0],[0.5,0.0,1.0,1.0],[0.5,0.0,1.0,1.0],[1.0,1.2246467991473532e-16,6.123233995736766e-17,1.0],[1.0,1.2246467991473532e-16,6.123233995736766e-17,1.0],[0.5,0.0,1.0,1.0],[1.0,1.2246467991473532e-16,6.123233995736766e-17,1.0],[1.0,1.2246467991473532e-16,6.123233995736766e-17,1.0],[0.5,0.0,1.0,1.0],[1.0,1.2246467991473532e-16,6.123233995736766e-17,1.0],[1.0,1.2246467991473532e-16,6.123233995736766e-17,1.0],[0.5,0.0,1.0,1.0],[0.5,0.0,1.0,1.0],[0.5,0.0,1.0,1.0],[0.5,0.0,1.0,1.0],[1.0,1.2246467991473532e-16,6.123233995736766e-17,1.0],[0.5,0.0,1.0,1.0],[1.0,1.2246467991473532e-16,6.123233995736766e-17,1.0],[1.0,1.2246467991473532e-16,6.123233995736766e-17,1.0],[0.5,0.0,1.0,1.0],[0.5,0.0,1.0,1.0],[0.5,0.0,1.0,1.0],[1.0,1.2246467991473532e-16,6.123233995736766e-17,1.0],[1.0,1.2246467991473532e-16,6.123233995736766e-17,1.0],[1.0,1.2246467991473532e-16,6.123233995736766e-17,1.0],[0.5,0.0,1.0,1.0],[1.0,1.2246467991473532e-16,6.123233995736766e-17,1.0],[1.0,1.2246467991473532e-16,6.123233995736766e-17,1.0],[1.0,1.2246467991473532e-16,6.123233995736766e-17,1.0],[0.5,0.0,1.0,1.0],[0.5,0.0,1.0,1.0],[0.5,0.0,1.0,1.0],[1.0,1.2246467991473532e-16,6.123233995736766e-17,1.0],[0.5,0.0,1.0,1.0],[1.0,1.2246467991473532e-16,6.123233995736766e-17,1.0],[0.5,0.0,1.0,1.0],[0.5,0.0,1.0,1.0],[1.0,1.2246467991473532e-16,6.123233995736766e-17,1.0],[0.5,0.0,1.0,1.0],[0.5,0.0,1.0,1.0],[0.5,0.0,1.0,1.0],[0.5,0.0,1.0,1.0],[1.0,1.2246467991473532e-16,6.123233995736766e-17,1.0],[1.0,1.2246467991473532e-16,6.123233995736766e-17,1.0],[0.5,0.0,1.0,1.0],[0.5,0.0,1.0,1.0],[0.5,0.0,1.0,1.0],[1.0,1.2246467991473532e-16,6.123233995736766e-17,1.0],[1.0,1.2246467991473532e-16,6.123233995736766e-17,1.0],[0.5,0.0,1.0,1.0],[0.5,0.0,1.0,1.0],[1.0,1.2246467991473532e-16,6.123233995736766e-17,1.0],[1.0,1.2246467991473532e-16,6.123233995736766e-17,1.0],[1.0,1.2246467991473532e-16,6.123233995736766e-17,1.0],[1.0,1.2246467991473532e-16,6.123233995736766e-17,1.0],[1.0,1.2246467991473532e-16,6.123233995736766e-17,1.0],[0.5,0.0,1.0,1.0],[0.5,0.0,1.0,1.0],[0.5,0.0,1.0,1.0],[1.0,1.2246467991473532e-16,6.123233995736766e-17,1.0],[0.5,0.0,1.0,1.0],[0.5,0.0,1.0,1.0],[0.5,0.0,1.0,1.0],[1.0,1.2246467991473532e-16,6.123233995736766e-17,1.0],[1.0,1.2246467991473532e-16,6.123233995736766e-17,1.0],[0.5,0.0,1.0,1.0],[1.0,1.2246467991473532e-16,6.123233995736766e-17,1.0],[0.5,0.0,1.0,1.0],[0.5,0.0,1.0,1.0],[0.5,0.0,1.0,1.0],[0.5,0.0,1.0,1.0],[0.5,0.0,1.0,1.0],[0.5,0.0,1.0,1.0],[0.5,0.0,1.0,1.0],[1.0,1.2246467991473532e-16,6.123233995736766e-17,1.0],[0.5,0.0,1.0,1.0],[1.0,1.2246467991473532e-16,6.123233995736766e-17,1.0],[1.0,1.2246467991473532e-16,6.123233995736766e-17,1.0],[0.5,0.0,1.0,1.0],[0.5,0.0,1.0,1.0],[0.5,0.0,1.0,1.0],[1.0,1.2246467991473532e-16,6.123233995736766e-17,1.0],[0.5,0.0,1.0,1.0],[1.0,1.2246467991473532e-16,6.123233995736766e-17,1.0],[0.5,0.0,1.0,1.0],[0.5,0.0,1.0,1.0],[1.0,1.2246467991473532e-16,6.123233995736766e-17,1.0],[1.0,1.2246467991473532e-16,6.123233995736766e-17,1.0],[1.0,1.2246467991473532e-16,6.123233995736766e-17,1.0],[1.0,1.2246467991473532e-16,6.123233995736766e-17,1.0],[1.0,1.2246467991473532e-16,6.123233995736766e-17,1.0],[1.0,1.2246467991473532e-16,6.123233995736766e-17,1.0],[1.0,1.2246467991473532e-16,6.123233995736766e-17,1.0],[1.0,1.2246467991473532e-16,6.123233995736766e-17,1.0],[1.0,1.2246467991473532e-16,6.123233995736766e-17,1.0],[1.0,1.2246467991473532e-16,6.123233995736766e-17,1.0],[0.5,0.0,1.0,1.0],[1.0,1.2246467991473532e-16,6.123233995736766e-17,1.0],[0.5,0.0,1.0,1.0],[0.5,0.0,1.0,1.0],[0.5,0.0,1.0,1.0],[1.0,1.2246467991473532e-16,6.123233995736766e-17,1.0],[0.5,0.0,1.0,1.0],[0.5,0.0,1.0,1.0],[0.5,0.0,1.0,1.0],[1.0,1.2246467991473532e-16,6.123233995736766e-17,1.0],[1.0,1.2246467991473532e-16,6.123233995736766e-17,1.0],[1.0,1.2246467991473532e-16,6.123233995736766e-17,1.0],[1.0,1.2246467991473532e-16,6.123233995736766e-17,1.0],[1.0,1.2246467991473532e-16,6.123233995736766e-17,1.0],[1.0,1.2246467991473532e-16,6.123233995736766e-17,1.0],[1.0,1.2246467991473532e-16,6.123233995736766e-17,1.0],[1.0,1.2246467991473532e-16,6.123233995736766e-17,1.0],[0.5,0.0,1.0,1.0],[0.5,0.0,1.0,1.0]],\"size\":5},\"mode\":\"markers\",\"x\":[12.276447,12.881146,13.511188,13.120521,13.854549,13.5265045,11.730729,12.983663,13.095629,12.899137,13.575438,12.430765,12.855587,13.660296,13.053067,13.044327,12.661878,14.040212,13.48439,13.583844,13.766419,13.249717,12.038794,13.712024,12.366295,12.386082,13.6283245,13.010197,13.33655,13.372342,13.408177,13.709919,12.928996,13.677466,12.533478,13.530357,13.619678,12.851016,11.707289,13.162824,13.556235,12.310644,13.752466,13.5366955,13.438252,11.700543,13.486418,13.166779,13.019735,13.324955,12.587011,12.545507,12.484264,11.687412,13.495218,13.389896,13.1440735,13.633591,12.96399,13.395524,12.473275,12.7087755,11.9412775,12.930471,13.329709,13.381757,13.175944,12.710754,12.065739,13.03971,11.734418,11.768394,13.310563,12.992328,13.5927,13.495004,13.496706,13.719129,12.737141,13.436399,13.044177,13.030301,12.433086,12.223958,12.722012,13.407467,13.9849415,12.338916,12.131453,13.467588,12.605052,13.56732,13.36293,13.104536,13.375661,13.492436,11.639884,12.651148,13.1164255,13.4409075,11.7649765,13.198476,12.611795,12.387229,12.369097,13.610853,12.365826,12.786532,13.179877,13.849791,13.251164,13.482051,13.880699,13.942079,12.679119,12.336398,13.981737,12.858679,11.742599,12.354789,13.700543,12.477623,12.83467,13.0606,13.6619625,13.08037,11.997922,12.986613,13.776512,13.053282,12.202589,12.577753,13.02448,13.935277,11.725033,12.563711,13.255309,13.497936,12.723701,12.379123,12.337877,12.4703045,13.953677,12.702122,12.843021,12.722403,13.146641,13.59982,13.600904,12.874152,12.503398,11.635202,12.884456,13.82111,14.040186,12.849464,13.610258,12.844988,13.564463,12.801875,12.983606,13.427355,13.057852,13.192368,13.080941,12.951194,12.939692,13.2373295,12.49045,11.855202,12.702294,13.059119,12.897294,12.646774,11.797101,13.097898,13.515234,14.037616,11.765835,13.909784,12.348589,13.674495,13.391502,12.312431,12.648791,12.526722,12.350617,13.465429,13.098742,13.305724,13.652572,13.426856,13.044262,12.344667,13.001075,13.736601,13.718861,13.376563,13.779466,13.385425,12.999616,11.722022,12.10036,13.091388,12.948975,13.312799,13.246052,13.723592,13.2893095,12.6328125,13.513549,12.949229,13.380258,12.448288,13.479275,13.031731,12.785545,13.192755,12.62704,12.258171,13.109225,13.992269,13.01346,13.361919,13.251817,13.459438,13.504127,13.388116,12.633111,13.517159,12.386409,13.389592,12.555129,11.76065,11.707977,12.699428,12.63787,12.325888,13.751991,13.627983,13.977901,11.675692,12.478623,12.579293,11.636042,12.594813,12.575723,12.300403,13.215527,13.422743,13.810793,12.279275,12.160217,13.510487,13.581618,12.268598,13.549366,13.907837,12.596364,12.583973,12.87362,12.23333,12.721436,13.745576,13.7605715,12.588583,13.974789,13.1217985,13.244503,13.124039,13.317016,12.902241,13.489759,13.639406,13.332747,12.727646,11.96884,12.830645,12.498648,11.698965,13.235467,13.315766,13.806416,13.714856,13.707907,13.65786,13.247831],\"y\":[0.6743244,1.4897798,0.97885275,0.9063082,1.0369875,1.9887352,1.5241324,2.226374,0.9725346,1.0955795,1.0884004,0.63806355,1.5961826,1.017307,0.7318712,1.6807189,1.3182719,1.3150264,1.05271,1.1136926,1.3164035,1.8435591,1.9362146,1.2150422,0.5999489,1.9287401,1.3212881,0.75904155,1.8824961,1.8728964,0.8760577,1.0609577,0.7918132,1.0792489,0.67823887,1.4599319,1.2112656,1.6327374,1.6140112,0.8859079,1.3406658,2.340919,1.0279069,1.982254,0.83949786,1.6624141,2.0280201,0.9552023,0.7608073,1.9118843,1.0065644,0.8556985,0.8989571,1.6556644,0.88882023,0.8225661,1.3566539,1.0953192,1.2142508,1.3171673,0.7135107,1.4125144,1.6690755,2.2839034,1.7971762,1.1379609,0.78985673,0.75414896,0.76603633,1.4033164,1.343755,1.4357603,1.8680807,1.331199,1.4655051,0.8636895,1.2747093,1.4577931,2.3962505,1.4365898,1.3239559,1.741152,0.5896155,1.542692,1.4078091,1.2049985,1.1908365,1.7493782,0.7661966,0.9577645,1.2271194,1.7013688,1.3407866,1.2286468,1.9756197,1.338402,1.6924165,1.2982646,0.87422657,0.9557272,1.488957,0.83279574,1.2616022,2.393041,1.7225924,1.3512387,1.9208114,1.7545537,0.95781577,1.1038916,1.2281098,2.1114073,1.0152367,1.3555051,1.1964481,0.5925858,1.381481,1.4293443,1.3557177,0.92398244,1.2010686,0.90941906,1.2300612,1.2450355,1.3978866,1.3859553,0.85131854,1.3658893,0.9808567,1.2411171,0.79218864,1.5046238,1.4936552,1.3826458,1.3856401,0.8666896,1.5722736,1.3072996,1.6627941,1.7215809,1.7982962,0.9078395,1.3304186,1.4577198,1.3086597,1.2325001,1.3258702,1.0113015,1.3721318,1.7461593,1.0413263,1.6472934,1.3296607,1.3099966,1.3656883,1.0786587,1.2111137,1.7362994,2.0743625,1.294652,0.6402553,0.8819478,1.3286747,1.9987164,0.96659684,2.262763,1.5672702,1.8133103,1.1888994,1.4868977,0.727271,1.4224384,1.153423,0.96327984,1.1734327,0.9176896,1.1765516,1.3570322,1.3988954,1.1515076,0.64479023,1.16934,1.8011744,0.62688386,0.9944545,0.73044103,1.7469283,2.144364,1.4884678,1.5197527,1.4121183,0.9107429,1.5138574,1.7513801,0.6501815,1.3403195,1.2238163,0.93663424,1.003707,1.9584689,1.372423,1.3005095,2.0368607,1.3576486,1.0515662,1.4417037,1.826899,1.25518,1.5305371,1.2004126,0.895687,1.3465561,1.9684861,0.6729031,0.9774265,1.0172101,1.2412976,1.3143446,1.2865359,1.5462322,0.68507034,1.2277557,1.3130711,1.9620334,2.0132065,1.1503885,0.80698395,1.530409,1.5096644,1.0183934,1.6966668,1.310247,2.425881,1.2963762,1.343671,1.819083,1.3491908,1.8458242,0.9347977,1.1179143,1.1711661,1.7091355,1.2280333,1.5725366,1.7600328,1.2449269,0.5901534,2.3379982,0.7352919,2.1494553,1.1178455,2.3192635,0.85549843,1.0261154,1.2262002,1.6911275,0.958876,1.1281754,1.6087189,1.2906498,1.1329575,0.84289145,1.3903302,0.95841783,1.3687575,1.1096426,1.2820076,1.411839,1.996285,1.0045542,1.6944264,2.304493,0.8998439,1.1559547,1.304198,1.7798959,0.8883713,1.4561119,1.2542433,1.3248944,0.8867743,1.9465559,0.99462533,1.4725521,1.4525819,1.4280397,2.029875],\"z\":[6.298689,7.2058353,6.671938,5.8127465,6.6545863,5.913527,6.8130903,6.7283564,5.994086,7.0329523,6.979167,6.22534,5.9943476,7.107726,5.617448,6.981141,7.3377185,6.293746,6.85541,6.238031,6.4366894,5.655787,6.69935,6.8144975,6.2432866,7.4637313,5.759098,6.5386424,5.6875587,6.4415703,6.8302155,6.02407,5.8162518,6.263715,5.833565,6.152998,6.0987663,6.044366,6.928328,5.6903205,6.842644,6.6613345,5.801303,5.755262,5.5948763,6.95855,5.8082156,6.8094316,6.5630007,5.9324074,6.068342,5.7773876,5.811964,6.936923,6.878539,6.6500115,5.6065955,6.522897,6.1458087,5.8724775,5.7967067,6.1159644,7.085594,6.7261524,6.7696695,6.577154,5.649301,5.928318,6.4375367,6.842141,6.612342,6.825122,5.633427,6.046936,6.8376327,7.0353656,6.446065,6.043831,6.669233,5.5707526,6.0876307,6.9438853,6.129665,6.116829,7.326544,6.6914673,6.8888125,7.337788,6.392794,7.032144,7.5301676,6.2617817,6.641002,6.545652,6.0884833,5.8596787,6.9146314,7.3912983,5.6215053,6.9404907,6.8390365,6.183433,7.4249964,6.6398864,7.301296,5.9129076,7.4586587,6.151486,6.1193285,6.942683,5.5185695,5.7836633,6.58214,5.5647144,7.562277,6.2800584,5.6249094,6.9034653,6.572848,6.4952927,5.5549984,6.1364026,5.5707912,5.5973697,6.971086,5.987969,6.508625,5.433804,5.952986,6.601383,6.4106026,6.256119,6.7374797,5.578807,6.795292,5.707176,5.756089,5.9222307,6.0714545,7.2755585,7.345257,6.5741963,5.587112,5.9596086,6.094657,5.863909,6.6556587,5.65733,5.796704,5.994738,6.051541,6.9135766,6.073273,5.81733,6.0276723,6.945409,6.9370475,5.99794,5.8330193,5.738023,5.5669174,7.001813,6.0388203,6.671622,5.945545,6.735016,7.017972,5.871007,7.3853493,6.871963,5.6660895,6.34501,5.9360676,5.988618,6.792742,5.718197,6.8648567,5.995584,6.609276,6.856216,6.344784,5.6022167,6.4276032,6.3160353,5.9970827,5.659637,7.317061,5.7655387,5.7816224,6.4691358,6.9250183,7.261944,5.9098034,7.2454023,5.5822744,6.416039,5.6287365,7.304642,5.774652,6.541824,5.4372683,6.5964866,6.6802855,5.8202686,6.958282,6.4838886,5.859402,6.254212,5.7532797,7.385914,7.110641,5.437165,6.1691613,5.7226977,6.6039248,6.8095064,7.4097123,5.614393,7.5420356,6.0989437,6.210637,6.976721,5.6890874,6.2456594,6.6731896,6.2090774,5.5950303,6.3676753,6.1353946,7.005726,7.3275685,5.4491844,6.6325,6.539462,6.798225,6.135646,6.1055374,7.3864126,5.785581,5.524717,6.9157767,6.8796253,7.058172,7.192975,6.857845,7.4108915,6.256139,6.676295,6.2686095,5.8017063,6.442917,6.6637506,6.3609715,6.1378956,6.376317,7.302685,7.115587,6.7615943,6.998968,7.484867,7.074055,6.1045823,7.3224683,5.6872077,5.7168274,7.301971,6.654413,5.746992,6.727882,5.9098997,6.777109,6.7250466,7.1614223,6.222529,5.4799953,6.0893555,6.5376654,7.249796,7.17385,6.7873244,5.7116632,5.662504,5.9893584,5.9905047,5.8410616,7.022713,6.7310424],\"type\":\"scatter3d\"}],                        {\"template\":{\"data\":{\"histogram2dcontour\":[{\"type\":\"histogram2dcontour\",\"colorbar\":{\"outlinewidth\":0,\"ticks\":\"\"},\"colorscale\":[[0.0,\"#0d0887\"],[0.1111111111111111,\"#46039f\"],[0.2222222222222222,\"#7201a8\"],[0.3333333333333333,\"#9c179e\"],[0.4444444444444444,\"#bd3786\"],[0.5555555555555556,\"#d8576b\"],[0.6666666666666666,\"#ed7953\"],[0.7777777777777778,\"#fb9f3a\"],[0.8888888888888888,\"#fdca26\"],[1.0,\"#f0f921\"]]}],\"choropleth\":[{\"type\":\"choropleth\",\"colorbar\":{\"outlinewidth\":0,\"ticks\":\"\"}}],\"histogram2d\":[{\"type\":\"histogram2d\",\"colorbar\":{\"outlinewidth\":0,\"ticks\":\"\"},\"colorscale\":[[0.0,\"#0d0887\"],[0.1111111111111111,\"#46039f\"],[0.2222222222222222,\"#7201a8\"],[0.3333333333333333,\"#9c179e\"],[0.4444444444444444,\"#bd3786\"],[0.5555555555555556,\"#d8576b\"],[0.6666666666666666,\"#ed7953\"],[0.7777777777777778,\"#fb9f3a\"],[0.8888888888888888,\"#fdca26\"],[1.0,\"#f0f921\"]]}],\"heatmap\":[{\"type\":\"heatmap\",\"colorbar\":{\"outlinewidth\":0,\"ticks\":\"\"},\"colorscale\":[[0.0,\"#0d0887\"],[0.1111111111111111,\"#46039f\"],[0.2222222222222222,\"#7201a8\"],[0.3333333333333333,\"#9c179e\"],[0.4444444444444444,\"#bd3786\"],[0.5555555555555556,\"#d8576b\"],[0.6666666666666666,\"#ed7953\"],[0.7777777777777778,\"#fb9f3a\"],[0.8888888888888888,\"#fdca26\"],[1.0,\"#f0f921\"]]}],\"heatmapgl\":[{\"type\":\"heatmapgl\",\"colorbar\":{\"outlinewidth\":0,\"ticks\":\"\"},\"colorscale\":[[0.0,\"#0d0887\"],[0.1111111111111111,\"#46039f\"],[0.2222222222222222,\"#7201a8\"],[0.3333333333333333,\"#9c179e\"],[0.4444444444444444,\"#bd3786\"],[0.5555555555555556,\"#d8576b\"],[0.6666666666666666,\"#ed7953\"],[0.7777777777777778,\"#fb9f3a\"],[0.8888888888888888,\"#fdca26\"],[1.0,\"#f0f921\"]]}],\"contourcarpet\":[{\"type\":\"contourcarpet\",\"colorbar\":{\"outlinewidth\":0,\"ticks\":\"\"}}],\"contour\":[{\"type\":\"contour\",\"colorbar\":{\"outlinewidth\":0,\"ticks\":\"\"},\"colorscale\":[[0.0,\"#0d0887\"],[0.1111111111111111,\"#46039f\"],[0.2222222222222222,\"#7201a8\"],[0.3333333333333333,\"#9c179e\"],[0.4444444444444444,\"#bd3786\"],[0.5555555555555556,\"#d8576b\"],[0.6666666666666666,\"#ed7953\"],[0.7777777777777778,\"#fb9f3a\"],[0.8888888888888888,\"#fdca26\"],[1.0,\"#f0f921\"]]}],\"surface\":[{\"type\":\"surface\",\"colorbar\":{\"outlinewidth\":0,\"ticks\":\"\"},\"colorscale\":[[0.0,\"#0d0887\"],[0.1111111111111111,\"#46039f\"],[0.2222222222222222,\"#7201a8\"],[0.3333333333333333,\"#9c179e\"],[0.4444444444444444,\"#bd3786\"],[0.5555555555555556,\"#d8576b\"],[0.6666666666666666,\"#ed7953\"],[0.7777777777777778,\"#fb9f3a\"],[0.8888888888888888,\"#fdca26\"],[1.0,\"#f0f921\"]]}],\"mesh3d\":[{\"type\":\"mesh3d\",\"colorbar\":{\"outlinewidth\":0,\"ticks\":\"\"}}],\"scatter\":[{\"fillpattern\":{\"fillmode\":\"overlay\",\"size\":10,\"solidity\":0.2},\"type\":\"scatter\"}],\"parcoords\":[{\"type\":\"parcoords\",\"line\":{\"colorbar\":{\"outlinewidth\":0,\"ticks\":\"\"}}}],\"scatterpolargl\":[{\"type\":\"scatterpolargl\",\"marker\":{\"colorbar\":{\"outlinewidth\":0,\"ticks\":\"\"}}}],\"bar\":[{\"error_x\":{\"color\":\"#2a3f5f\"},\"error_y\":{\"color\":\"#2a3f5f\"},\"marker\":{\"line\":{\"color\":\"#E5ECF6\",\"width\":0.5},\"pattern\":{\"fillmode\":\"overlay\",\"size\":10,\"solidity\":0.2}},\"type\":\"bar\"}],\"scattergeo\":[{\"type\":\"scattergeo\",\"marker\":{\"colorbar\":{\"outlinewidth\":0,\"ticks\":\"\"}}}],\"scatterpolar\":[{\"type\":\"scatterpolar\",\"marker\":{\"colorbar\":{\"outlinewidth\":0,\"ticks\":\"\"}}}],\"histogram\":[{\"marker\":{\"pattern\":{\"fillmode\":\"overlay\",\"size\":10,\"solidity\":0.2}},\"type\":\"histogram\"}],\"scattergl\":[{\"type\":\"scattergl\",\"marker\":{\"colorbar\":{\"outlinewidth\":0,\"ticks\":\"\"}}}],\"scatter3d\":[{\"type\":\"scatter3d\",\"line\":{\"colorbar\":{\"outlinewidth\":0,\"ticks\":\"\"}},\"marker\":{\"colorbar\":{\"outlinewidth\":0,\"ticks\":\"\"}}}],\"scattermapbox\":[{\"type\":\"scattermapbox\",\"marker\":{\"colorbar\":{\"outlinewidth\":0,\"ticks\":\"\"}}}],\"scatterternary\":[{\"type\":\"scatterternary\",\"marker\":{\"colorbar\":{\"outlinewidth\":0,\"ticks\":\"\"}}}],\"scattercarpet\":[{\"type\":\"scattercarpet\",\"marker\":{\"colorbar\":{\"outlinewidth\":0,\"ticks\":\"\"}}}],\"carpet\":[{\"aaxis\":{\"endlinecolor\":\"#2a3f5f\",\"gridcolor\":\"white\",\"linecolor\":\"white\",\"minorgridcolor\":\"white\",\"startlinecolor\":\"#2a3f5f\"},\"baxis\":{\"endlinecolor\":\"#2a3f5f\",\"gridcolor\":\"white\",\"linecolor\":\"white\",\"minorgridcolor\":\"white\",\"startlinecolor\":\"#2a3f5f\"},\"type\":\"carpet\"}],\"table\":[{\"cells\":{\"fill\":{\"color\":\"#EBF0F8\"},\"line\":{\"color\":\"white\"}},\"header\":{\"fill\":{\"color\":\"#C8D4E3\"},\"line\":{\"color\":\"white\"}},\"type\":\"table\"}],\"barpolar\":[{\"marker\":{\"line\":{\"color\":\"#E5ECF6\",\"width\":0.5},\"pattern\":{\"fillmode\":\"overlay\",\"size\":10,\"solidity\":0.2}},\"type\":\"barpolar\"}],\"pie\":[{\"automargin\":true,\"type\":\"pie\"}]},\"layout\":{\"autotypenumbers\":\"strict\",\"colorway\":[\"#636efa\",\"#EF553B\",\"#00cc96\",\"#ab63fa\",\"#FFA15A\",\"#19d3f3\",\"#FF6692\",\"#B6E880\",\"#FF97FF\",\"#FECB52\"],\"font\":{\"color\":\"#2a3f5f\"},\"hovermode\":\"closest\",\"hoverlabel\":{\"align\":\"left\"},\"paper_bgcolor\":\"white\",\"plot_bgcolor\":\"#E5ECF6\",\"polar\":{\"bgcolor\":\"#E5ECF6\",\"angularaxis\":{\"gridcolor\":\"white\",\"linecolor\":\"white\",\"ticks\":\"\"},\"radialaxis\":{\"gridcolor\":\"white\",\"linecolor\":\"white\",\"ticks\":\"\"}},\"ternary\":{\"bgcolor\":\"#E5ECF6\",\"aaxis\":{\"gridcolor\":\"white\",\"linecolor\":\"white\",\"ticks\":\"\"},\"baxis\":{\"gridcolor\":\"white\",\"linecolor\":\"white\",\"ticks\":\"\"},\"caxis\":{\"gridcolor\":\"white\",\"linecolor\":\"white\",\"ticks\":\"\"}},\"coloraxis\":{\"colorbar\":{\"outlinewidth\":0,\"ticks\":\"\"}},\"colorscale\":{\"sequential\":[[0.0,\"#0d0887\"],[0.1111111111111111,\"#46039f\"],[0.2222222222222222,\"#7201a8\"],[0.3333333333333333,\"#9c179e\"],[0.4444444444444444,\"#bd3786\"],[0.5555555555555556,\"#d8576b\"],[0.6666666666666666,\"#ed7953\"],[0.7777777777777778,\"#fb9f3a\"],[0.8888888888888888,\"#fdca26\"],[1.0,\"#f0f921\"]],\"sequentialminus\":[[0.0,\"#0d0887\"],[0.1111111111111111,\"#46039f\"],[0.2222222222222222,\"#7201a8\"],[0.3333333333333333,\"#9c179e\"],[0.4444444444444444,\"#bd3786\"],[0.5555555555555556,\"#d8576b\"],[0.6666666666666666,\"#ed7953\"],[0.7777777777777778,\"#fb9f3a\"],[0.8888888888888888,\"#fdca26\"],[1.0,\"#f0f921\"]],\"diverging\":[[0,\"#8e0152\"],[0.1,\"#c51b7d\"],[0.2,\"#de77ae\"],[0.3,\"#f1b6da\"],[0.4,\"#fde0ef\"],[0.5,\"#f7f7f7\"],[0.6,\"#e6f5d0\"],[0.7,\"#b8e186\"],[0.8,\"#7fbc41\"],[0.9,\"#4d9221\"],[1,\"#276419\"]]},\"xaxis\":{\"gridcolor\":\"white\",\"linecolor\":\"white\",\"ticks\":\"\",\"title\":{\"standoff\":15},\"zerolinecolor\":\"white\",\"automargin\":true,\"zerolinewidth\":2},\"yaxis\":{\"gridcolor\":\"white\",\"linecolor\":\"white\",\"ticks\":\"\",\"title\":{\"standoff\":15},\"zerolinecolor\":\"white\",\"automargin\":true,\"zerolinewidth\":2},\"scene\":{\"xaxis\":{\"backgroundcolor\":\"#E5ECF6\",\"gridcolor\":\"white\",\"linecolor\":\"white\",\"showbackground\":true,\"ticks\":\"\",\"zerolinecolor\":\"white\",\"gridwidth\":2},\"yaxis\":{\"backgroundcolor\":\"#E5ECF6\",\"gridcolor\":\"white\",\"linecolor\":\"white\",\"showbackground\":true,\"ticks\":\"\",\"zerolinecolor\":\"white\",\"gridwidth\":2},\"zaxis\":{\"backgroundcolor\":\"#E5ECF6\",\"gridcolor\":\"white\",\"linecolor\":\"white\",\"showbackground\":true,\"ticks\":\"\",\"zerolinecolor\":\"white\",\"gridwidth\":2}},\"shapedefaults\":{\"line\":{\"color\":\"#2a3f5f\"}},\"annotationdefaults\":{\"arrowcolor\":\"#2a3f5f\",\"arrowhead\":0,\"arrowwidth\":1},\"geo\":{\"bgcolor\":\"white\",\"landcolor\":\"#E5ECF6\",\"subunitcolor\":\"white\",\"showland\":true,\"showlakes\":true,\"lakecolor\":\"white\"},\"title\":{\"x\":0.05},\"mapbox\":{\"style\":\"light\"}}},\"scene\":{\"xaxis\":{\"title\":{\"text\":\"X\"}},\"yaxis\":{\"title\":{\"text\":\"Y\"}},\"zaxis\":{\"title\":{\"text\":\"Z\"}}},\"title\":{\"text\":\"3D Scatter Plot of Text Embeddings\"}},                        {\"responsive\": true}                    ).then(function(){\n",
              "                            \n",
              "var gd = document.getElementById('acec8685-1865-46d6-bf8e-1d3544e87d08');\n",
              "var x = new MutationObserver(function (mutations, observer) {{\n",
              "        var display = window.getComputedStyle(gd).display;\n",
              "        if (!display || display === 'none') {{\n",
              "            console.log([gd, 'removed!']);\n",
              "            Plotly.purge(gd);\n",
              "            observer.disconnect();\n",
              "        }}\n",
              "}});\n",
              "\n",
              "// Listen for the removal of the full notebook cells\n",
              "var notebookContainer = gd.closest('#notebook-container');\n",
              "if (notebookContainer) {{\n",
              "    x.observe(notebookContainer, {childList: true});\n",
              "}}\n",
              "\n",
              "// Listen for the clearing of the current output cell\n",
              "var outputEl = gd.closest('.output');\n",
              "if (outputEl) {{\n",
              "    x.observe(outputEl, {childList: true});\n",
              "}}\n",
              "\n",
              "                        })                };                            </script>        </div>\n",
              "</body>\n",
              "</html>"
            ]
          },
          "metadata": {}
        }
      ],
      "source": [
        "import plotly.graph_objects as go\n",
        "\n",
        "# Assuming you have x, y, z, and sample_labels defined\n",
        "\n",
        "# Create a Plotly figure\n",
        "fig = go.Figure(data=[go.Scatter3d(\n",
        "    x=x,\n",
        "    y=y,\n",
        "    z=z,\n",
        "    mode='markers',\n",
        "    marker=dict(\n",
        "        color=[label_color_dict[label] for label in sample_labels],  # Color by label\n",
        "        size=5  # Adjust marker size as needed\n",
        "    )\n",
        ")])\n",
        "\n",
        "# Set axis labels and title\n",
        "fig.update_layout(scene=dict(\n",
        "    xaxis_title='X',\n",
        "    yaxis_title='Y',\n",
        "    zaxis_title='Z'\n",
        "),\n",
        "    title='3D Scatter Plot of Text Embeddings')\n",
        "\n",
        "# Show the interactive plot\n",
        "fig.show()"
      ]
    },
    {
      "cell_type": "markdown",
      "source": [
        "The 3D projection does not show a clear class separation between the headlines. This suggests that the model might not effectively distiguish between sarcastic and non-sarcastic headlines. However, this conclusion may be misleading because it is important to acknowledge that some information might have been lost in the process of reducing the embedding's dimension from $R^{768}$ to $R^{3}$.\n",
        "Therefore, the separation might be more evident in its' original dimensional space or in dimensions higher than 3."
      ],
      "metadata": {
        "id": "4PthLgx1fFZp"
      },
      "id": "4PthLgx1fFZp"
    },
    {
      "cell_type": "markdown",
      "source": [
        "Training and Testing Subsets\n",
        "----------------------------------"
      ],
      "metadata": {
        "id": "_Ej9aBIqgoyU"
      },
      "id": "_Ej9aBIqgoyU"
    },
    {
      "cell_type": "markdown",
      "source": [],
      "metadata": {
        "id": "BBWDOGCngtjU"
      },
      "id": "BBWDOGCngtjU"
    },
    {
      "cell_type": "markdown",
      "source": [
        "## <font color=\"red\">Now lets split the dataset in train and test subsets (why is this necessary?)</font>"
      ],
      "metadata": {
        "id": "8D34m6eq1ew0"
      },
      "id": "8D34m6eq1ew0"
    },
    {
      "cell_type": "code",
      "execution_count": null,
      "id": "e665050f-b3a4-41fc-bc85-67c60ea310cb",
      "metadata": {
        "id": "e665050f-b3a4-41fc-bc85-67c60ea310cb"
      },
      "outputs": [],
      "source": [
        "X_train, X_test, y_train, y_test = train_test_split(df.loc[:, df.columns != \"is_sarcastic\"], df[\"is_sarcastic\"],\n",
        "                                                    test_size=0.3,\n",
        "                                                    stratify=df[\"is_sarcastic\"])"
      ]
    },
    {
      "cell_type": "code",
      "execution_count": null,
      "id": "97cded97-07cb-4ada-aece-c0dd4d7c84ad",
      "metadata": {
        "colab": {
          "base_uri": "https://localhost:8080/"
        },
        "id": "97cded97-07cb-4ada-aece-c0dd4d7c84ad",
        "outputId": "b04b88b4-d3dd-4bbf-c22f-d788be37d064"
      },
      "outputs": [
        {
          "output_type": "execute_result",
          "data": {
            "text/plain": [
              "(20033, 8586)"
            ]
          },
          "metadata": {},
          "execution_count": 52
        }
      ],
      "source": [
        "len(X_train), len(X_test)"
      ]
    },
    {
      "cell_type": "code",
      "execution_count": null,
      "id": "56143c2a-c880-4cab-860d-6314392553d4",
      "metadata": {
        "colab": {
          "base_uri": "https://localhost:8080/"
        },
        "id": "56143c2a-c880-4cab-860d-6314392553d4",
        "outputId": "11f15550-52d7-4e7e-f5cc-3815ec8785e9"
      },
      "outputs": [
        {
          "output_type": "stream",
          "name": "stdout",
          "text": [
            "Total number of records: 20033\n",
            "Total number of records: 8586\n"
          ]
        }
      ],
      "source": [
        "# Get embeddings for the training and test set\n",
        "train_embeddings = get_embeddings(texts=X_train[\"headline\"].tolist())\n",
        "#train_embeddings_df = pd.DataFrame(train_embeddings)\n",
        "train_embeddings_array = np.array([x.cpu() for x in train_embeddings])\n",
        "\n",
        "test_embeddings = get_embeddings(texts=X_test[\"headline\"].tolist())\n",
        "#test_embeddings_df = pd.DataFrame(test_embeddings)\n",
        "test_embeddings_array = np.array([x.cpu() for x in test_embeddings])"
      ]
    },
    {
      "cell_type": "markdown",
      "source": [
        "## <font color=\"red\">We have the 768-dimensional embeddings of the train and test headlines. Time to train a classifier.</font>"
      ],
      "metadata": {
        "id": "8mEzZKal11TF"
      },
      "id": "8mEzZKal11TF"
    },
    {
      "cell_type": "markdown",
      "source": [],
      "metadata": {
        "id": "ljDUpgmgXMN0"
      },
      "id": "ljDUpgmgXMN0"
    },
    {
      "cell_type": "markdown",
      "source": [
        "## <font color=\"black\">The XGBoost algorithm</font>"
      ],
      "metadata": {
        "id": "iYgnUKJx37Dw"
      },
      "id": "iYgnUKJx37Dw"
    },
    {
      "cell_type": "markdown",
      "id": "WppfY7sdoRwA",
      "metadata": {
        "id": "WppfY7sdoRwA"
      },
      "source": [
        "XGBoost, or eXtreme Gradient Boosting, is a powerful machine learning algorithm that excels in both classification and regression. It is widely used in competitive machine learning due to its speed and predictive performance. For tasks such as detecting sarcasm in headlines, XGBoost's XGBClassifier can be employed with the objective parameter set to binary:logistic for binary classification since the model decides whether the headline is sarcastic or not.\n",
        "\n",
        "More specifically, in this project, sarcasm detection is achieved by leveraging XGBoost with features extracted from text data using RoBERTa. The sarcasm detection prediction is made by first imputing <font color=\"red\">! imputing means something else</font> the 768-dimensional vectors obtained from RoBERTa. The model starts with 768 features derived from the text. These vectors are put into the trained XGBoost model. Each decision tree processes the vector and outputs a score. This indicates the likelihood that the headline is sarcastic. It does so in such a way that it assigns a higher score to headlines that it believes are sarcastic and lower scores to those that are not. All the individual tree outputs are summed to produce a final score. It combines the values from the leaves to assign a score to each example, which represents the probability that the headline is sarcastic.\n",
        "\n",
        "To measure the effectiveness of the model and guide the training process, XGBoost uses an objective function, which consists of two parts: training loss and regularization. The training loss measures how well the model fits the data, while the regularization term penalizes overly complex models to prevent overfitting. In classification tasks, the training loss (L) is often defined using logistic loss, which quantifies the error between the predicted probability and the actual label:\n",
        "\n",
        "$$ \\mathcal{L} = \\sum_{i=1}^{N} \\left[ -y_i \\log(\\hat{y}_i) - (1 - y_i) \\log(1 - \\hat{y}_i) \\right] $$\n",
        "\n",
        "where $$-y_i$$ is the actual value for the i-th training instance\n",
        "\n",
        "and  $$\\hat{y}_i$$is the predicted probability for the i-th instance\n",
        "\n",
        "This is how XGBoost works at the final level (sum).\n",
        "However, at every leaf, the elements to be summed are obtained using similarity scores.\n",
        "\n",
        "Like Gradient Boosting and AdaBoost, XGBoost builds a series of decision trees based on the previous tree. Each tree is said to “correct a bit” an initial prediction to obtain an improved one. The main idea is to make a prediction a little bit better at each tree.\n",
        "\n",
        "The first step to training a model with XGBoost is to make an initial prediction. Unlike other machine learning algorithms where the initial prediction is the average of the variable factor, XGBoost uses 0.5 as a standard first prediction. For binary classification, an initial prediction of 0.5 reflects the assumption that, without prior knowledge, the model considers each class (sarcastic or not) equally likely. As training progresses, this initial guess is refined based on the residuals of previous trees. However, the initial prediction can be changed by the programmer.\n",
        "\n",
        "Then, the residuals, which are the differences between the observed and the predicted value, show the initial predictions’ accuracy. Higher residuals show a greater difference between what was predicted and what was observed, meaning the observed result was further from what was predicted.\n",
        "\n",
        "The Similarity Score in XGBoost is directly related to the objective function. This score can be viewed as a measure of how well the model has fit the data at that stage of the learning process. The formula for the similarity score involves a regularization term λ and a probability value\n",
        "\n",
        "P, which is the predicted value from the previous tree. The score is defined as:\n",
        "\n",
        "$$ \\text{Similarity score} = \\frac{(\\sum \\text{Residuals})^2}{\\sum^N [p(1-p)]+\\lambda} $$\n",
        "​\n",
        "\n",
        "Here, the residuals are used to evaluate how much error is present, and the regularization term λ ensures that the tree does not become overly complex. The Similarity Score helps determine how well each split in the decision tree minimizes the residual error. The objective function, which consists of both the training loss and regularization, drives the optimization of this score.\n",
        "\n",
        "Now, the tree continues to build by predicting the variable factor at different thresholds. This means XGBoost splits the data by clustering similar residuals together and separates the residuals into two groups. The residuals on the right side of the threshold are used to build another residual leaf, and the residuals on the left do the same.\n",
        "\n",
        "Again, a similarity score is calculated for each leaf.\n",
        "\n",
        "To compare the changes in similarity score, what is known as a Gain can be calculated.\n",
        "\n",
        "$$\\text{Gain} = \\text{Previous Score} - (\\text{Left Score} + \\text{Right Score})$$\n",
        "\n",
        "In decision trees, gain refers to the improvement in the model’s performance or the error reduction when a dataset is split at a specific node. The gain helps in selecting which feature to split on and where to split for each decision node. It identifies the optimal way to split decision tree leaves by calculating the best gain from each potential split. A higher gain indicates a more valuable split.\n",
        "\n",
        "This process repeats until further splitting is no longer beneficial.\n",
        "\n",
        "\n"
      ]
    },
    {
      "cell_type": "markdown",
      "source": [
        "Once the tree has been built, we need to convert the model's log(odds) prediction to a probability."
      ],
      "metadata": {
        "id": "8ezfLbfNyie3"
      },
      "id": "8ezfLbfNyie3"
    },
    {
      "cell_type": "markdown",
      "source": [
        "To convert a log(odds) value into a probability, the following logistic function is used:\n",
        "\n",
        "$$\\hat{y} = \\frac{1}{1 + e^{-z}}$$\n",
        " Where\n",
        "𝑧 is the log(odds) score predicted by the model\n",
        "\n",
        "$$z = \\log \\left( \\frac{p}{1 - p} \\right)$$\n",
        "\n",
        "The sigmoid (logistic) function maps any input into a probability value between 0 and 1. A value closer to 1 indicates a higher likelihood of being sarcastic. On the other hand, a value closer to 0 indicates a higher likelihood of being non-sarcastic. Once the sigmoid function provides a probability, it is compared to a threshold which is commonly 0.5. If the probability is greater than 0.5, the headline is classified as sarcastic. If the probability is less than or equal to 0.5, the headline is classified as non-sarcastic.\n",
        "\n",
        "The probability obtained from the logistic function should result in a smaller residual than the previous prediction.\n",
        "\n",
        "This process is repeated until the maximum number of trees is reached. The size of the forest can be set using the parameter num_boost_round. <font color=\"red\">Explain the hyperparameter grid search.</font>"
      ],
      "metadata": {
        "id": "t83NvY74wLBP"
      },
      "id": "t83NvY74wLBP"
    },
    {
      "cell_type": "code",
      "execution_count": null,
      "id": "8792ec87",
      "metadata": {
        "id": "8792ec87"
      },
      "outputs": [],
      "source": [
        "def train_model(data: pd.DataFrame, labels: pd.Series):\n",
        "    if torch.cuda.is_available():\n",
        "        boost_device = \"cuda\"\n",
        "    else:\n",
        "        boost_device = \"cpu\"\n",
        "\n",
        "    # Initialize the XGBoost Classifier\n",
        "    xgb_clf = xgb.XGBClassifier(objective=\"binary:logistic\",\n",
        "                                device=boost_device,\n",
        "                                random_state=3137)\n",
        "\n",
        "    # Define hyperparameters and values to tune\n",
        "    param_grid = {\n",
        "        'max_depth': [5, 6, 7, 8],\n",
        "        'eta': np.arange(0.05, 0.3, 0.05)\n",
        "    }\n",
        "\n",
        "    print(f\"Number of rows in training data: {len(data)}\")\n",
        "\n",
        "    # Perform hyperparameter tuning using GridSearchCV\n",
        "    grid_search = GridSearchCV(estimator=xgb_clf, param_grid=param_grid, scoring=\"roc_auc\",\n",
        "                               cv=5, verbose=3)\n",
        "    grid_search.fit(data, labels)\n",
        "\n",
        "    # Get the best hyperparameters\n",
        "    best_max_depth = grid_search.best_params_['max_depth']\n",
        "    print(f\"Best max depth: {best_max_depth}\")\n",
        "    best_eta = grid_search.best_params_['eta']\n",
        "    print(f\"Best eta: {best_eta}\")\n",
        "\n",
        "    final_xgb_clf = xgb.XGBClassifier(objective=\"binary:logistic\",\n",
        "                                      max_depth=best_max_depth,\n",
        "                                      eta=best_eta,\n",
        "                                      device=boost_device,\n",
        "                                      random_state=3137)\n",
        "    final_xgb_clf.fit(data, labels)\n",
        "\n",
        "    return final_xgb_clf"
      ]
    },
    {
      "cell_type": "code",
      "execution_count": null,
      "id": "82767610-b684-4ea5-bdce-df275d4d8c8c",
      "metadata": {
        "colab": {
          "base_uri": "https://localhost:8080/"
        },
        "id": "82767610-b684-4ea5-bdce-df275d4d8c8c",
        "outputId": "d49e6149-2621-4e33-cc59-2fce3520abdf"
      },
      "outputs": [
        {
          "output_type": "stream",
          "name": "stdout",
          "text": [
            "Number of rows in training data: 20033\n",
            "Fitting 5 folds for each of 20 candidates, totalling 100 fits\n"
          ]
        },
        {
          "output_type": "stream",
          "name": "stderr",
          "text": [
            "/usr/local/lib/python3.10/dist-packages/xgboost/core.py:158: UserWarning:\n",
            "\n",
            "[01:26:22] WARNING: /workspace/src/common/error_msg.cc:58: Falling back to prediction using DMatrix due to mismatched devices. This might lead to higher memory usage and slower performance. XGBoost is running on: cuda:0, while the input data is on: cpu.\n",
            "Potential solutions:\n",
            "- Use a data structure that matches the device ordinal in the booster.\n",
            "- Set the device for booster before call to inplace_predict.\n",
            "\n",
            "This warning will only be shown once.\n",
            "\n",
            "\n"
          ]
        },
        {
          "output_type": "stream",
          "name": "stdout",
          "text": [
            "[CV 1/5] END .............eta=0.05, max_depth=5;, score=0.889 total time=   4.3s\n",
            "[CV 2/5] END .............eta=0.05, max_depth=5;, score=0.881 total time=   5.2s\n",
            "[CV 3/5] END .............eta=0.05, max_depth=5;, score=0.884 total time=   3.6s\n",
            "[CV 4/5] END .............eta=0.05, max_depth=5;, score=0.879 total time=   4.5s\n",
            "[CV 5/5] END .............eta=0.05, max_depth=5;, score=0.897 total time=   4.6s\n",
            "[CV 1/5] END .............eta=0.05, max_depth=6;, score=0.894 total time=   4.9s\n",
            "[CV 2/5] END .............eta=0.05, max_depth=6;, score=0.886 total time=   4.4s\n",
            "[CV 3/5] END .............eta=0.05, max_depth=6;, score=0.894 total time=   4.5s\n",
            "[CV 4/5] END .............eta=0.05, max_depth=6;, score=0.883 total time=   4.6s\n",
            "[CV 5/5] END .............eta=0.05, max_depth=6;, score=0.905 total time=   4.3s\n",
            "[CV 1/5] END .............eta=0.05, max_depth=7;, score=0.895 total time=   6.3s\n",
            "[CV 2/5] END .............eta=0.05, max_depth=7;, score=0.888 total time=   6.9s\n",
            "[CV 3/5] END .............eta=0.05, max_depth=7;, score=0.898 total time=   8.6s\n",
            "[CV 4/5] END .............eta=0.05, max_depth=7;, score=0.887 total time=   7.4s\n",
            "[CV 5/5] END .............eta=0.05, max_depth=7;, score=0.906 total time=   7.4s\n",
            "[CV 1/5] END .............eta=0.05, max_depth=8;, score=0.895 total time=   9.8s\n",
            "[CV 2/5] END .............eta=0.05, max_depth=8;, score=0.888 total time=   9.8s\n",
            "[CV 3/5] END .............eta=0.05, max_depth=8;, score=0.897 total time=  10.8s\n",
            "[CV 4/5] END .............eta=0.05, max_depth=8;, score=0.887 total time=   9.9s\n",
            "[CV 5/5] END .............eta=0.05, max_depth=8;, score=0.906 total time=   9.8s\n",
            "[CV 1/5] END ..............eta=0.1, max_depth=5;, score=0.903 total time=   3.2s\n",
            "[CV 2/5] END ..............eta=0.1, max_depth=5;, score=0.898 total time=   3.3s\n",
            "[CV 3/5] END ..............eta=0.1, max_depth=5;, score=0.903 total time=   3.4s\n",
            "[CV 4/5] END ..............eta=0.1, max_depth=5;, score=0.896 total time=   3.9s\n",
            "[CV 5/5] END ..............eta=0.1, max_depth=5;, score=0.910 total time=   3.2s\n",
            "[CV 1/5] END ..............eta=0.1, max_depth=6;, score=0.905 total time=   4.3s\n",
            "[CV 2/5] END ..............eta=0.1, max_depth=6;, score=0.903 total time=   6.2s\n",
            "[CV 3/5] END ..............eta=0.1, max_depth=6;, score=0.905 total time=   4.4s\n",
            "[CV 4/5] END ..............eta=0.1, max_depth=6;, score=0.897 total time=   5.6s\n",
            "[CV 5/5] END ..............eta=0.1, max_depth=6;, score=0.913 total time=   5.0s\n",
            "[CV 1/5] END ..............eta=0.1, max_depth=7;, score=0.906 total time=   6.9s\n",
            "[CV 2/5] END ..............eta=0.1, max_depth=7;, score=0.902 total time=   8.1s\n",
            "[CV 3/5] END ..............eta=0.1, max_depth=7;, score=0.908 total time=   6.8s\n",
            "[CV 4/5] END ..............eta=0.1, max_depth=7;, score=0.899 total time=   6.8s\n",
            "[CV 5/5] END ..............eta=0.1, max_depth=7;, score=0.916 total time=   6.7s\n",
            "[CV 1/5] END ..............eta=0.1, max_depth=8;, score=0.903 total time=  10.2s\n",
            "[CV 2/5] END ..............eta=0.1, max_depth=8;, score=0.900 total time=  11.4s\n",
            "[CV 3/5] END ..............eta=0.1, max_depth=8;, score=0.908 total time=   8.8s\n",
            "[CV 4/5] END ..............eta=0.1, max_depth=8;, score=0.900 total time=   8.8s\n",
            "[CV 5/5] END ..............eta=0.1, max_depth=8;, score=0.911 total time=  10.1s\n",
            "[CV 1/5] END eta=0.15000000000000002, max_depth=5;, score=0.909 total time=   3.4s\n",
            "[CV 2/5] END eta=0.15000000000000002, max_depth=5;, score=0.904 total time=   4.1s\n",
            "[CV 3/5] END eta=0.15000000000000002, max_depth=5;, score=0.908 total time=   3.2s\n",
            "[CV 4/5] END eta=0.15000000000000002, max_depth=5;, score=0.901 total time=   3.3s\n",
            "[CV 5/5] END eta=0.15000000000000002, max_depth=5;, score=0.913 total time=   4.7s\n",
            "[CV 1/5] END eta=0.15000000000000002, max_depth=6;, score=0.912 total time=   4.4s\n",
            "[CV 2/5] END eta=0.15000000000000002, max_depth=6;, score=0.907 total time=   4.2s\n",
            "[CV 3/5] END eta=0.15000000000000002, max_depth=6;, score=0.908 total time=   4.5s\n",
            "[CV 4/5] END eta=0.15000000000000002, max_depth=6;, score=0.903 total time=   4.3s\n",
            "[CV 5/5] END eta=0.15000000000000002, max_depth=6;, score=0.918 total time=   4.2s\n",
            "[CV 1/5] END eta=0.15000000000000002, max_depth=7;, score=0.909 total time=   6.2s\n",
            "[CV 2/5] END eta=0.15000000000000002, max_depth=7;, score=0.906 total time=   5.9s\n",
            "[CV 3/5] END eta=0.15000000000000002, max_depth=7;, score=0.907 total time=   6.0s\n",
            "[CV 4/5] END eta=0.15000000000000002, max_depth=7;, score=0.902 total time=   5.9s\n",
            "[CV 5/5] END eta=0.15000000000000002, max_depth=7;, score=0.914 total time=   6.0s\n",
            "[CV 1/5] END eta=0.15000000000000002, max_depth=8;, score=0.908 total time=   8.8s\n",
            "[CV 2/5] END eta=0.15000000000000002, max_depth=8;, score=0.904 total time=   8.8s\n",
            "[CV 3/5] END eta=0.15000000000000002, max_depth=8;, score=0.908 total time=   8.7s\n",
            "[CV 4/5] END eta=0.15000000000000002, max_depth=8;, score=0.903 total time=   9.0s\n",
            "[CV 5/5] END eta=0.15000000000000002, max_depth=8;, score=0.914 total time=   8.6s\n",
            "[CV 1/5] END ..............eta=0.2, max_depth=5;, score=0.909 total time=   4.8s\n",
            "[CV 2/5] END ..............eta=0.2, max_depth=5;, score=0.907 total time=   3.4s\n",
            "[CV 3/5] END ..............eta=0.2, max_depth=5;, score=0.908 total time=   4.1s\n",
            "[CV 4/5] END ..............eta=0.2, max_depth=5;, score=0.899 total time=   3.3s\n",
            "[CV 5/5] END ..............eta=0.2, max_depth=5;, score=0.917 total time=   3.3s\n",
            "[CV 1/5] END ..............eta=0.2, max_depth=6;, score=0.909 total time=   4.9s\n",
            "[CV 2/5] END ..............eta=0.2, max_depth=6;, score=0.907 total time=   4.2s\n",
            "[CV 3/5] END ..............eta=0.2, max_depth=6;, score=0.908 total time=   4.3s\n",
            "[CV 4/5] END ..............eta=0.2, max_depth=6;, score=0.904 total time=   4.9s\n",
            "[CV 5/5] END ..............eta=0.2, max_depth=6;, score=0.918 total time=   4.2s\n",
            "[CV 1/5] END ..............eta=0.2, max_depth=7;, score=0.908 total time=   5.9s\n",
            "[CV 2/5] END ..............eta=0.2, max_depth=7;, score=0.906 total time=   7.1s\n",
            "[CV 3/5] END ..............eta=0.2, max_depth=7;, score=0.910 total time=   5.8s\n",
            "[CV 4/5] END ..............eta=0.2, max_depth=7;, score=0.905 total time=   7.2s\n",
            "[CV 5/5] END ..............eta=0.2, max_depth=7;, score=0.917 total time=   5.8s\n",
            "[CV 1/5] END ..............eta=0.2, max_depth=8;, score=0.908 total time=   8.9s\n",
            "[CV 2/5] END ..............eta=0.2, max_depth=8;, score=0.905 total time=   8.0s\n",
            "[CV 3/5] END ..............eta=0.2, max_depth=8;, score=0.906 total time=   8.3s\n",
            "[CV 4/5] END ..............eta=0.2, max_depth=8;, score=0.906 total time=   7.8s\n",
            "[CV 5/5] END ..............eta=0.2, max_depth=8;, score=0.916 total time=   8.2s\n",
            "[CV 1/5] END .............eta=0.25, max_depth=5;, score=0.913 total time=   4.4s\n",
            "[CV 2/5] END .............eta=0.25, max_depth=5;, score=0.909 total time=   3.3s\n",
            "[CV 3/5] END .............eta=0.25, max_depth=5;, score=0.906 total time=   3.3s\n",
            "[CV 4/5] END .............eta=0.25, max_depth=5;, score=0.898 total time=   3.6s\n",
            "[CV 5/5] END .............eta=0.25, max_depth=5;, score=0.912 total time=   3.8s\n",
            "[CV 1/5] END .............eta=0.25, max_depth=6;, score=0.914 total time=   4.2s\n",
            "[CV 2/5] END .............eta=0.25, max_depth=6;, score=0.905 total time=   4.3s\n",
            "[CV 3/5] END .............eta=0.25, max_depth=6;, score=0.910 total time=   5.2s\n",
            "[CV 4/5] END .............eta=0.25, max_depth=6;, score=0.905 total time=   4.2s\n",
            "[CV 5/5] END .............eta=0.25, max_depth=6;, score=0.918 total time=   4.3s\n",
            "[CV 1/5] END .............eta=0.25, max_depth=7;, score=0.909 total time=   6.5s\n",
            "[CV 2/5] END .............eta=0.25, max_depth=7;, score=0.905 total time=   5.8s\n",
            "[CV 3/5] END .............eta=0.25, max_depth=7;, score=0.907 total time=   6.8s\n",
            "[CV 4/5] END .............eta=0.25, max_depth=7;, score=0.909 total time=   5.6s\n",
            "[CV 5/5] END .............eta=0.25, max_depth=7;, score=0.919 total time=   6.9s\n",
            "[CV 1/5] END .............eta=0.25, max_depth=8;, score=0.906 total time=   7.6s\n",
            "[CV 2/5] END .............eta=0.25, max_depth=8;, score=0.903 total time=   8.8s\n",
            "[CV 3/5] END .............eta=0.25, max_depth=8;, score=0.910 total time=   7.4s\n",
            "[CV 4/5] END .............eta=0.25, max_depth=8;, score=0.907 total time=   7.3s\n",
            "[CV 5/5] END .............eta=0.25, max_depth=8;, score=0.918 total time=   8.0s\n",
            "Best max depth: 6\n",
            "Best eta: 0.25\n"
          ]
        }
      ],
      "source": [
        "# Train model\n",
        "xgb_model = train_model(data=train_embeddings_array, labels=y_train)"
      ]
    },
    {
      "cell_type": "code",
      "execution_count": null,
      "id": "ed1698b1",
      "metadata": {
        "id": "ed1698b1"
      },
      "outputs": [],
      "source": [
        "y_pred = xgb_model.predict(test_embeddings_array)"
      ]
    },
    {
      "cell_type": "code",
      "execution_count": null,
      "id": "c97050e9",
      "metadata": {
        "colab": {
          "base_uri": "https://localhost:8080/"
        },
        "id": "c97050e9",
        "outputId": "19025366-8fce-42be-a584-dc2ed06e1287"
      },
      "outputs": [
        {
          "output_type": "execute_result",
          "data": {
            "text/plain": [
              "array([1, 0, 1, ..., 0, 0, 1])"
            ]
          },
          "metadata": {},
          "execution_count": 57
        }
      ],
      "source": [
        "y_pred"
      ]
    },
    {
      "cell_type": "markdown",
      "source": [
        "Results\n",
        "-----------------"
      ],
      "metadata": {
        "id": "Av0CktdTbwBS"
      },
      "id": "Av0CktdTbwBS"
    },
    {
      "cell_type": "code",
      "execution_count": null,
      "id": "3163e194",
      "metadata": {
        "colab": {
          "base_uri": "https://localhost:8080/"
        },
        "id": "3163e194",
        "outputId": "2e1f097f-5410-4304-bc13-31df374cce55"
      },
      "outputs": [
        {
          "output_type": "stream",
          "name": "stdout",
          "text": [
            "Classification report:\n",
            "              precision    recall  f1-score   support\n",
            "\n",
            "           0       0.84      0.85      0.84      4496\n",
            "           1       0.83      0.82      0.82      4090\n",
            "\n",
            "    accuracy                           0.83      8586\n",
            "   macro avg       0.83      0.83      0.83      8586\n",
            "weighted avg       0.83      0.83      0.83      8586\n",
            "\n"
          ]
        }
      ],
      "source": [
        "print(f\"Classification report:\\n{classification_report(y_test, y_pred)}\")"
      ]
    },
    {
      "cell_type": "markdown",
      "id": "Py7m2nxSooG-",
      "metadata": {
        "id": "Py7m2nxSooG-"
      },
      "source": [
        "Based on the classification report, the model exhibits high Precision and Recall for both classes. The precision represents the probability that a headline that was predicted as sarcasitic is actually sarcastic and the recall is the probability that an actually sarcastic headline was detected as sarcastic.\n",
        "\n",
        "In other words, a high precision means that the model creates fewer false positives and higer recall would mean that the model creates fewer false negatives.\n",
        "\n",
        "In addition, The F1-score, which is just a harmonic mean between the precision and the recall is also high. A high F1-score suggests that the precision and recall are balanced, meaning that false negative and positive errors occur at a similar rate. A lower F1-score means that one type of error occurs more frequently than the other. This could suggest an unbalanced datatset or a faulty model.\n",
        "\n",
        "Overall, the model detects sarcasm in headlines well.\n",
        "\n",
        "\n"
      ]
    },
    {
      "cell_type": "markdown",
      "source": [
        "Conclusion\n",
        "-------------------------"
      ],
      "metadata": {
        "id": "mx8W3uKHhN09"
      },
      "id": "mx8W3uKHhN09"
    },
    {
      "cell_type": "markdown",
      "source": [
        "In conclusion, the XGBoost model trained on RoBERTa  embeddings successfully classifies headlines as sarcastic or not.\n",
        "\n",
        "Due to it's high performance, this model can be used in social media content moderation and sentiment analysis where sarcasm detection is required.\n",
        "\n",
        "For content moderation, this model can be used to aid in tasks such as detecting hate speech or flagging inapproriate content. In addition to sarcasm detection, models built with text embeddings can be used to determine other emotional tones of text. These can be used to predict overall sentiments in online conversations such as positive, negative and neutral.\n",
        "\n",
        "However, this model can perform better with the following potential improvements.\n",
        "Experimenting with other embedding models such as BERT, XLNet or ELMo could yield better scores in the classification report. Furthermore, expanding the dataset could expose the model to more sarcastic expressions and could expand the scope of it's detecting abilities."
      ],
      "metadata": {
        "id": "U7yG-2cdDcZf"
      },
      "id": "U7yG-2cdDcZf"
    },
    {
      "cell_type": "markdown",
      "id": "S7-A26MHyMvO",
      "metadata": {
        "id": "S7-A26MHyMvO"
      },
      "source": [
        "Bibliography\n",
        "\n",
        "Chen, Tianqi & Guestrin, Carlos. (2016). XGBoost: A Scalable Tree Boosting System. 785-794. 10.1145/2939672.2939785.\n",
        "\n",
        "Sneha, Pianalytix-. « XGBoost | Machine Learning ». Pianalytix - Build Real-World Tech Projects, 17 novembre 2020, https://pianalytix.com/xgboost-machine-learning/\n",
        "\n",
        "Starmer, Josh-. XGBoost Part 2 (of 4): Classification.YouTube.https://www.youtube.com/watch?si=OF1oOJ9iyr7FG_di&v=8b1JEDvenQU&feature=youtu.be. Consulté le 23 novembre 2024.\n",
        "\n",
        "Introduction to Boosted Trees — xgboost 2.1.1 documentation. https://xgboost.readthedocs.io/en/stable/tutorials/model.html. Consulté le 3 décembre 2024.\n",
        "\n",
        "Ghosh, Suvrodeep. « Leveraging Text Embeddings for Twitter Text Classification with XGBoost ». Medium, 1 avril 2024, https://medium.com/@suvro.dgp/leveraging-text-embeddings-for-twitter-text-classification-with-xgboost-6a4a1a89371c.\n",
        "\n",
        "Flair | Flair. https://flairnlp.github.io/. Consulté le 9 décembre 2024."
      ]
    },
    {
      "cell_type": "code",
      "execution_count": null,
      "id": "620f54c9-2628-4dd5-a99f-f30e0f1f3f1a",
      "metadata": {
        "id": "620f54c9-2628-4dd5-a99f-f30e0f1f3f1a"
      },
      "outputs": [],
      "source": []
    }
  ],
  "metadata": {
    "accelerator": "GPU",
    "colab": {
      "gpuType": "T4",
      "provenance": []
    },
    "kernelspec": {
      "display_name": "Python 3",
      "name": "python3"
    },
    "language_info": {
      "codemirror_mode": {
        "name": "ipython",
        "version": 3
      },
      "file_extension": ".py",
      "mimetype": "text/x-python",
      "name": "python",
      "nbconvert_exporter": "python",
      "pygments_lexer": "ipython3",
      "version": "3.10.12"
    }
  },
  "nbformat": 4,
  "nbformat_minor": 5
}